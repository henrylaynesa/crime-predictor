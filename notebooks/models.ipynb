{
 "cells": [
  {
   "cell_type": "code",
   "execution_count": null,
   "metadata": {},
   "outputs": [],
   "source": [
    "%matplotlib inline\n",
    "import os\n",
    "import sys\n",
    "from matplotlib import pyplot as plt\n",
    "import numpy as np\n",
    "import pandas as pd\n",
    "import geopandas as gpd\n",
    "import warnings\n",
    "warnings.filterwarnings('always')"
   ]
  },
  {
   "cell_type": "code",
   "execution_count": null,
   "metadata": {},
   "outputs": [],
   "source": [
    "sys.path.append('../utils/')\n",
    "sys.path.append('../source/')"
   ]
  },
  {
   "cell_type": "code",
   "execution_count": null,
   "metadata": {},
   "outputs": [],
   "source": [
    "%load_ext autoreload\n",
    "%autoreload 2\n",
    "\n",
    "from CrimePredictor import CrimePredictor\n",
    "from geo_utils import *\n",
    "from config import *"
   ]
  },
  {
   "cell_type": "markdown",
   "metadata": {},
   "source": [
    "# Models"
   ]
  },
  {
   "cell_type": "markdown",
   "metadata": {},
   "source": [
    "## Theft F/Auto"
   ]
  },
  {
   "cell_type": "markdown",
   "metadata": {},
   "source": [
    "### Random Forest - Regression"
   ]
  },
  {
   "cell_type": "code",
   "execution_count": null,
   "metadata": {},
   "outputs": [],
   "source": [
    "cp = CrimePredictor('THEFT F/AUTO', prev_weeks=5, neighbors=4, model_type='logistic', task_type='classification')\n",
    "df = cp.load_data(force=False, verbose=True)\n",
    "df = cp.preprocess()\n",
    "scores, y, y_pred = cp.train_test(force=True, verbose=True)"
   ]
  },
  {
   "cell_type": "code",
   "execution_count": null,
   "metadata": {},
   "outputs": [],
   "source": [
    "cp.feature_importance()"
   ]
  },
  {
   "cell_type": "markdown",
   "metadata": {},
   "source": [
    "### Random Forest - Classification"
   ]
  },
  {
   "cell_type": "code",
   "execution_count": null,
   "metadata": {},
   "outputs": [],
   "source": [
    "cp = CrimePredictor('THEFT F/AUTO', prev_weeks=5, neighbors=4, model_type='random_forest', task_type='classification')\n",
    "df = cp.load_data(force=False, verbose=True)\n",
    "df = cp.preprocess()\n",
    "scores, y, y_pred = cp.train_test(force=True, verbose=True)"
   ]
  },
  {
   "cell_type": "code",
   "execution_count": null,
   "metadata": {
    "scrolled": true
   },
   "outputs": [],
   "source": [
    "cp.feature_importance()"
   ]
  },
  {
   "cell_type": "markdown",
   "metadata": {},
   "source": [
    "### XGBoost - Regression"
   ]
  },
  {
   "cell_type": "code",
   "execution_count": null,
   "metadata": {
    "scrolled": true
   },
   "outputs": [],
   "source": [
    "cp = CrimePredictor('THEFT F/AUTO', prev_weeks=5, neighbors=4, model_type='xgboost')\n",
    "df = cp.load_data(force=False, verbose=True)\n",
    "df = cp.preprocess()\n",
    "scores, y, y_pred = cp.train_test(force=True, verbose=True)"
   ]
  },
  {
   "cell_type": "code",
   "execution_count": null,
   "metadata": {},
   "outputs": [],
   "source": [
    "cp.feature_importance()"
   ]
  },
  {
   "cell_type": "markdown",
   "metadata": {},
   "source": [
    "### XGBoost - Classification"
   ]
  },
  {
   "cell_type": "code",
   "execution_count": null,
   "metadata": {},
   "outputs": [],
   "source": [
    "cp = CrimePredictor('THEFT F/AUTO', prev_weeks=5, neighbors=4, model_type='xgboost', task_type='classification')\n",
    "df = cp.load_data(force=False, verbose=True)\n",
    "df = cp.preprocess()\n",
    "scores, y, y_pred = cp.train_test(force=False, verbose=True)"
   ]
  },
  {
   "cell_type": "code",
   "execution_count": null,
   "metadata": {},
   "outputs": [],
   "source": [
    "cp.feature_importance()"
   ]
  },
  {
   "cell_type": "markdown",
   "metadata": {},
   "source": [
    "## Burglary"
   ]
  },
  {
   "cell_type": "markdown",
   "metadata": {},
   "source": [
    "### Logistic Regression - Classification"
   ]
  },
  {
   "cell_type": "code",
   "execution_count": null,
   "metadata": {},
   "outputs": [],
   "source": [
    "cp = CrimePredictor('BURGLARY', prev_weeks=5, neighbors=4, model_type='logistic', task_type='classification')\n",
    "df = cp.load_data(force=False, verbose=True)\n",
    "df = cp.preprocess()\n",
    "scores, y, y_pred = cp.train_test(force=True, verbose=True)"
   ]
  },
  {
   "cell_type": "markdown",
   "metadata": {},
   "source": [
    "### Random Forest - Regression"
   ]
  },
  {
   "cell_type": "code",
   "execution_count": null,
   "metadata": {},
   "outputs": [],
   "source": [
    "cp = CrimePredictor('BURGLARY', prev_weeks=5, neighbors=4, model_type='random_forest')\n",
    "df = cp.load_data(force=False, verbose=True)\n",
    "df = cp.preprocess()\n",
    "scores, y, y_pred = cp.train_test(force=True, verbose=True)"
   ]
  },
  {
   "cell_type": "code",
   "execution_count": null,
   "metadata": {
    "scrolled": true
   },
   "outputs": [],
   "source": [
    "cp.feature_importance()"
   ]
  },
  {
   "cell_type": "markdown",
   "metadata": {},
   "source": [
    "### Random Forest - Classification"
   ]
  },
  {
   "cell_type": "code",
   "execution_count": null,
   "metadata": {},
   "outputs": [],
   "source": [
    "cp = CrimePredictor('BURGLARY', prev_weeks=5, neighbors=4, model_type='random_forest', task_type='classification')\n",
    "df = cp.load_data(force=False, verbose=True)\n",
    "df = cp.preprocess()\n",
    "scores, y, y_pred = cp.train_test(force=True, verbose=True)"
   ]
  },
  {
   "cell_type": "code",
   "execution_count": null,
   "metadata": {},
   "outputs": [],
   "source": [
    "cp.feature_importance()"
   ]
  },
  {
   "cell_type": "markdown",
   "metadata": {},
   "source": [
    "### XGBoost - Regression"
   ]
  },
  {
   "cell_type": "code",
   "execution_count": null,
   "metadata": {},
   "outputs": [],
   "source": [
    "cp = CrimePredictor('BURGLARY', prev_weeks=5, neighbors=4, model_type='xgboost')\n",
    "df = cp.load_data(force=False, verbose=True)\n",
    "df = cp.preprocess()\n",
    "scores, y, y_pred = cp.train_test(force=True, verbose=True)"
   ]
  },
  {
   "cell_type": "code",
   "execution_count": null,
   "metadata": {},
   "outputs": [],
   "source": [
    "cp.feature_importance()"
   ]
  },
  {
   "cell_type": "markdown",
   "metadata": {},
   "source": [
    "### XGBoost - Classification"
   ]
  },
  {
   "cell_type": "code",
   "execution_count": null,
   "metadata": {},
   "outputs": [],
   "source": [
    "cp = CrimePredictor('BURGLARY', prev_weeks=5, neighbors=4, model_type='xgboost', task_type='classification') # johnny MAX prev_weeks=5, neighbors = 4\n",
    "df = cp.load_data(force=False, verbose=True)\n",
    "df = cp.preprocess()\n",
    "scores, y, y_pred = cp.train_test(force=True, verbose=True)"
   ]
  },
  {
   "cell_type": "code",
   "execution_count": null,
   "metadata": {},
   "outputs": [],
   "source": [
    "cp.feature_importance()"
   ]
  },
  {
   "cell_type": "code",
   "execution_count": null,
   "metadata": {},
   "outputs": [],
   "source": [
    "y.value_counts()"
   ]
  },
  {
   "cell_type": "code",
   "execution_count": null,
   "metadata": {},
   "outputs": [],
   "source": [
    "fig, ax = plt.subplots(figsize=(1,10))\n",
    "sns.heatmap(df.corr()[['crime_count']], annot=True)"
   ]
  },
  {
   "cell_type": "markdown",
   "metadata": {},
   "source": [
    "## Motor Vehicle Theft"
   ]
  },
  {
   "cell_type": "markdown",
   "metadata": {},
   "source": [
    "### Random Forest - Regression"
   ]
  },
  {
   "cell_type": "code",
   "execution_count": null,
   "metadata": {},
   "outputs": [],
   "source": [
    "cp = CrimePredictor('MOTOR VEHICLE THEFT', prev_weeks=5, neighbors=4, model_type='random_forest') # lex MAX prev_weeks=5, neighbors = 4\n",
    "df = cp.load_data(force=False, verbose=True)\n",
    "df = cp.preprocess()\n",
    "scores, y, y_pred = cp.train_test(force=True, verbose=True)"
   ]
  },
  {
   "cell_type": "code",
   "execution_count": null,
   "metadata": {},
   "outputs": [],
   "source": [
    "cp.feature_importance()"
   ]
  },
  {
   "cell_type": "markdown",
   "metadata": {},
   "source": [
    "### Random Forest - Classification"
   ]
  },
  {
   "cell_type": "code",
   "execution_count": null,
   "metadata": {},
   "outputs": [],
   "source": [
    "cp = CrimePredictor('MOTOR VEHICLE THEFT', prev_weeks=5, neighbors=4, model_type='random_forest', task_type='classification') # lex MAX prev_weeks=5, neighbors = 4\n",
    "df = cp.load_data(force=False, verbose=True)\n",
    "df = cp.preprocess()\n",
    "scores, y, y_pred = cp.train_test(force=True, verbose=True)"
   ]
  },
  {
   "cell_type": "code",
   "execution_count": null,
   "metadata": {},
   "outputs": [],
   "source": [
    "cp.feature_importance()"
   ]
  },
  {
   "cell_type": "markdown",
   "metadata": {},
   "source": [
    "### XGBoost - Regression"
   ]
  },
  {
   "cell_type": "code",
   "execution_count": null,
   "metadata": {},
   "outputs": [],
   "source": [
    "cp = CrimePredictor('MOTOR VEHICLE THEFT', prev_weeks=5, neighbors=4, model_type='xgboost') # lex MAX prev_weeks=5, neighbors = 4\n",
    "df = cp.load_data(force=False, verbose=True)\n",
    "df = cp.preprocess()\n",
    "scores, y, y_pred = cp.train_test(force=True, verbose=True)"
   ]
  },
  {
   "cell_type": "code",
   "execution_count": null,
   "metadata": {},
   "outputs": [],
   "source": [
    "cp.feature_importance()"
   ]
  },
  {
   "cell_type": "markdown",
   "metadata": {},
   "source": [
    "### XGBoost - Classification"
   ]
  },
  {
   "cell_type": "code",
   "execution_count": null,
   "metadata": {},
   "outputs": [],
   "source": [
    "cp = CrimePredictor('MOTOR VEHICLE THEFT', prev_weeks=5, neighbors=4, model_type='xgboost', task_type='classification') # lex MAX prev_weeks=5, neighbors = 4\n",
    "df = cp.load_data(force=False, verbose=True)\n",
    "df = cp.preprocess()\n",
    "scores, y, y_pred = cp.train_test(force=True, verbose=True)"
   ]
  },
  {
   "cell_type": "code",
   "execution_count": null,
   "metadata": {
    "scrolled": true
   },
   "outputs": [],
   "source": [
    "cp.feature_importance()"
   ]
  },
  {
   "cell_type": "code",
   "execution_count": null,
   "metadata": {},
   "outputs": [],
   "source": [
    "y.value_counts()"
   ]
  },
  {
   "cell_type": "code",
   "execution_count": null,
   "metadata": {},
   "outputs": [],
   "source": [
    "fig, ax = plt.subplots(figsize=(1,10))\n",
    "sns.heatmap(df.corr()[['crime_count']], annot=True)"
   ]
  },
  {
   "cell_type": "code",
   "execution_count": null,
   "metadata": {},
   "outputs": [],
   "source": []
  }
 ],
 "metadata": {
  "kernelspec": {
   "display_name": "crime-capstone",
   "language": "python",
   "name": "crime-capstone"
  },
  "language_info": {
   "codemirror_mode": {
    "name": "ipython",
    "version": 3
   },
   "file_extension": ".py",
   "mimetype": "text/x-python",
   "name": "python",
   "nbconvert_exporter": "python",
   "pygments_lexer": "ipython3",
   "version": "3.7.4"
  }
 },
 "nbformat": 4,
 "nbformat_minor": 2
}
