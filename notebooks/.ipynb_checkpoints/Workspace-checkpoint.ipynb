{
 "cells": [
  {
   "cell_type": "code",
   "execution_count": 2,
   "metadata": {},
   "outputs": [],
   "source": [
    "%matplotlib inline\n",
    "import os\n",
    "import sys\n",
    "from matplotlib import pyplot as plt\n",
    "import numpy as np\n",
    "import pandas as pd\n",
    "import geopandas as gpd\n",
    "import warnings\n",
    "warnings.filterwarnings('always')"
   ]
  },
  {
   "cell_type": "code",
   "execution_count": 3,
   "metadata": {},
   "outputs": [],
   "source": [
    "sys.path.append('../utils/')\n",
    "sys.path.append('../source/')"
   ]
  },
  {
   "cell_type": "code",
   "execution_count": 5,
   "metadata": {},
   "outputs": [],
   "source": [
    "%reload_ext autoreload\n",
    "%autoreload 2\n",
    "\n",
    "from CrimePredictor import CrimePredictor\n",
    "from geo_utils import *\n",
    "from config import *"
   ]
  },
  {
   "cell_type": "markdown",
   "metadata": {},
   "source": [
    "# Geographical Plots"
   ]
  },
  {
   "cell_type": "code",
   "execution_count": 6,
   "metadata": {},
   "outputs": [],
   "source": [
    "# year = \"2010\"\n",
    "gdf = gpd.read_file('./Crime Data Project/Dataset/DC ' + year + '/original/Crime_Incidents_in_' + year + '.shp')\n",
    "# len(gdf.columns)"
   ]
  },
  {
   "cell_type": "code",
   "execution_count": 49,
   "metadata": {},
   "outputs": [],
   "source": [
    "gdf = gpd.read_file('../Crime Data Project/Dataset/allyears/original/Crime_Incidents_All_Years.shp')"
   ]
  },
  {
   "cell_type": "code",
   "execution_count": 50,
   "metadata": {},
   "outputs": [],
   "source": [
    "# gdf = gpd.read_file('../Crime Data Project/Dataset/DC 2018/original/Crime_Incidents_in_2018.shp')\n",
    "# temp = pd.read_csv('../Crime Data Project/Dataset/DC 2018/data/Crime_Incidents_in_2018.csv')\n",
    "# gdf = gpd.GeoDataFrame(, geometry='geometry')\n",
    "# pd.concat([gdf, temp])"
   ]
  },
  {
   "cell_type": "code",
   "execution_count": 51,
   "metadata": {},
   "outputs": [
    {
     "data": {
      "text/html": [
       "<div>\n",
       "<style scoped>\n",
       "    .dataframe tbody tr th:only-of-type {\n",
       "        vertical-align: middle;\n",
       "    }\n",
       "\n",
       "    .dataframe tbody tr th {\n",
       "        vertical-align: top;\n",
       "    }\n",
       "\n",
       "    .dataframe thead th {\n",
       "        text-align: right;\n",
       "    }\n",
       "</style>\n",
       "<table border=\"1\" class=\"dataframe\">\n",
       "  <thead>\n",
       "    <tr style=\"text-align: right;\">\n",
       "      <th></th>\n",
       "      <th>CCN</th>\n",
       "      <th>REPORT_DAT</th>\n",
       "      <th>SHIFT</th>\n",
       "      <th>METHOD</th>\n",
       "      <th>OFFENSE</th>\n",
       "      <th>BLOCK</th>\n",
       "      <th>XBLOCK</th>\n",
       "      <th>YBLOCK</th>\n",
       "      <th>WARD</th>\n",
       "      <th>ANC</th>\n",
       "      <th>...</th>\n",
       "      <th>CENSUS_TRA</th>\n",
       "      <th>VOTING_PRE</th>\n",
       "      <th>LATITUDE</th>\n",
       "      <th>LONGITUDE</th>\n",
       "      <th>BID</th>\n",
       "      <th>START_DATE</th>\n",
       "      <th>END_DATE</th>\n",
       "      <th>OBJECTID</th>\n",
       "      <th>OCTO_RECOR</th>\n",
       "      <th>geometry</th>\n",
       "    </tr>\n",
       "  </thead>\n",
       "  <tbody>\n",
       "    <tr>\n",
       "      <td>0</td>\n",
       "      <td>18171105</td>\n",
       "      <td>2018-10-09T13:37:09.000Z</td>\n",
       "      <td>DAY</td>\n",
       "      <td>OTHERS</td>\n",
       "      <td>THEFT F/AUTO</td>\n",
       "      <td>1621 - 1699 BLOCK OF NORTH CAPITOL STREET</td>\n",
       "      <td>399215.0</td>\n",
       "      <td>138262.0</td>\n",
       "      <td>5</td>\n",
       "      <td>5E</td>\n",
       "      <td>...</td>\n",
       "      <td>003302</td>\n",
       "      <td>Precinct 19</td>\n",
       "      <td>38.912221</td>\n",
       "      <td>-77.009051</td>\n",
       "      <td>None</td>\n",
       "      <td>2018-10-09T12:57:53.000Z</td>\n",
       "      <td>None</td>\n",
       "      <td>314491319</td>\n",
       "      <td>18171105-01</td>\n",
       "      <td>POINT (-77.00905346917222 38.91222905282211)</td>\n",
       "    </tr>\n",
       "    <tr>\n",
       "      <td>1</td>\n",
       "      <td>18171107</td>\n",
       "      <td>2018-10-09T13:53:19.000Z</td>\n",
       "      <td>DAY</td>\n",
       "      <td>OTHERS</td>\n",
       "      <td>THEFT F/AUTO</td>\n",
       "      <td>800 - 899 BLOCK OF 7TH STREET NE</td>\n",
       "      <td>400332.0</td>\n",
       "      <td>136990.0</td>\n",
       "      <td>6</td>\n",
       "      <td>6C</td>\n",
       "      <td>...</td>\n",
       "      <td>010600</td>\n",
       "      <td>Precinct 83</td>\n",
       "      <td>38.900763</td>\n",
       "      <td>-76.996173</td>\n",
       "      <td>None</td>\n",
       "      <td>2018-10-09T11:50:26.000Z</td>\n",
       "      <td>2018-10-09T12:45:32.000Z</td>\n",
       "      <td>314491320</td>\n",
       "      <td>18171107-01</td>\n",
       "      <td>POINT (-76.99617488143458 38.90077072031529)</td>\n",
       "    </tr>\n",
       "    <tr>\n",
       "      <td>2</td>\n",
       "      <td>18171110</td>\n",
       "      <td>2018-10-09T13:36:09.000Z</td>\n",
       "      <td>DAY</td>\n",
       "      <td>OTHERS</td>\n",
       "      <td>THEFT/OTHER</td>\n",
       "      <td>1500 - 1599 BLOCK OF 7TH STREET NW</td>\n",
       "      <td>398099.0</td>\n",
       "      <td>138058.0</td>\n",
       "      <td>6</td>\n",
       "      <td>6E</td>\n",
       "      <td>...</td>\n",
       "      <td>004901</td>\n",
       "      <td>Precinct 18</td>\n",
       "      <td>38.910382</td>\n",
       "      <td>-77.021918</td>\n",
       "      <td>None</td>\n",
       "      <td>2018-10-09T12:50:37.000Z</td>\n",
       "      <td>None</td>\n",
       "      <td>314491321</td>\n",
       "      <td>18171110-01</td>\n",
       "      <td>POINT (-77.02192057572496 38.9103896453387)</td>\n",
       "    </tr>\n",
       "    <tr>\n",
       "      <td>3</td>\n",
       "      <td>18171115</td>\n",
       "      <td>2018-10-09T14:13:15.000Z</td>\n",
       "      <td>DAY</td>\n",
       "      <td>OTHERS</td>\n",
       "      <td>THEFT/OTHER</td>\n",
       "      <td>1 - 99 BLOCK OF L STREET NE</td>\n",
       "      <td>399351.0</td>\n",
       "      <td>137319.0</td>\n",
       "      <td>6</td>\n",
       "      <td>6C</td>\n",
       "      <td>...</td>\n",
       "      <td>010600</td>\n",
       "      <td>Precinct 83</td>\n",
       "      <td>38.903727</td>\n",
       "      <td>-77.007482</td>\n",
       "      <td>NOMA</td>\n",
       "      <td>2018-10-09T13:02:17.000Z</td>\n",
       "      <td>2018-10-09T13:44:17.000Z</td>\n",
       "      <td>314491322</td>\n",
       "      <td>18171115-01</td>\n",
       "      <td>POINT (-77.00748447412317 38.90373429233588)</td>\n",
       "    </tr>\n",
       "    <tr>\n",
       "      <td>4</td>\n",
       "      <td>18171117</td>\n",
       "      <td>2018-10-09T13:50:01.000Z</td>\n",
       "      <td>DAY</td>\n",
       "      <td>OTHERS</td>\n",
       "      <td>THEFT F/AUTO</td>\n",
       "      <td>1300 - 1399 BLOCK OF 5TH STREET NE</td>\n",
       "      <td>400212.0</td>\n",
       "      <td>137949.0</td>\n",
       "      <td>5</td>\n",
       "      <td>5D</td>\n",
       "      <td>...</td>\n",
       "      <td>008803</td>\n",
       "      <td>Precinct 76</td>\n",
       "      <td>38.909402</td>\n",
       "      <td>-76.997556</td>\n",
       "      <td>None</td>\n",
       "      <td>2018-10-06T12:05:26.000Z</td>\n",
       "      <td>2018-10-06T15:15:35.000Z</td>\n",
       "      <td>314491323</td>\n",
       "      <td>18171117-01</td>\n",
       "      <td>POINT (-76.99755798430712 38.90940976699502)</td>\n",
       "    </tr>\n",
       "  </tbody>\n",
       "</table>\n",
       "<p>5 rows × 24 columns</p>\n",
       "</div>"
      ],
      "text/plain": [
       "        CCN                REPORT_DAT SHIFT  METHOD       OFFENSE  \\\n",
       "0  18171105  2018-10-09T13:37:09.000Z   DAY  OTHERS  THEFT F/AUTO   \n",
       "1  18171107  2018-10-09T13:53:19.000Z   DAY  OTHERS  THEFT F/AUTO   \n",
       "2  18171110  2018-10-09T13:36:09.000Z   DAY  OTHERS   THEFT/OTHER   \n",
       "3  18171115  2018-10-09T14:13:15.000Z   DAY  OTHERS   THEFT/OTHER   \n",
       "4  18171117  2018-10-09T13:50:01.000Z   DAY  OTHERS  THEFT F/AUTO   \n",
       "\n",
       "                                       BLOCK    XBLOCK    YBLOCK WARD ANC  \\\n",
       "0  1621 - 1699 BLOCK OF NORTH CAPITOL STREET  399215.0  138262.0    5  5E   \n",
       "1           800 - 899 BLOCK OF 7TH STREET NE  400332.0  136990.0    6  6C   \n",
       "2         1500 - 1599 BLOCK OF 7TH STREET NW  398099.0  138058.0    6  6E   \n",
       "3                1 - 99 BLOCK OF L STREET NE  399351.0  137319.0    6  6C   \n",
       "4         1300 - 1399 BLOCK OF 5TH STREET NE  400212.0  137949.0    5  5D   \n",
       "\n",
       "   ... CENSUS_TRA   VOTING_PRE   LATITUDE  LONGITUDE   BID  \\\n",
       "0  ...     003302  Precinct 19  38.912221 -77.009051  None   \n",
       "1  ...     010600  Precinct 83  38.900763 -76.996173  None   \n",
       "2  ...     004901  Precinct 18  38.910382 -77.021918  None   \n",
       "3  ...     010600  Precinct 83  38.903727 -77.007482  NOMA   \n",
       "4  ...     008803  Precinct 76  38.909402 -76.997556  None   \n",
       "\n",
       "                 START_DATE                  END_DATE   OBJECTID   OCTO_RECOR  \\\n",
       "0  2018-10-09T12:57:53.000Z                      None  314491319  18171105-01   \n",
       "1  2018-10-09T11:50:26.000Z  2018-10-09T12:45:32.000Z  314491320  18171107-01   \n",
       "2  2018-10-09T12:50:37.000Z                      None  314491321  18171110-01   \n",
       "3  2018-10-09T13:02:17.000Z  2018-10-09T13:44:17.000Z  314491322  18171115-01   \n",
       "4  2018-10-06T12:05:26.000Z  2018-10-06T15:15:35.000Z  314491323  18171117-01   \n",
       "\n",
       "                                       geometry  \n",
       "0  POINT (-77.00905346917222 38.91222905282211)  \n",
       "1  POINT (-76.99617488143458 38.90077072031529)  \n",
       "2   POINT (-77.02192057572496 38.9103896453387)  \n",
       "3  POINT (-77.00748447412317 38.90373429233588)  \n",
       "4  POINT (-76.99755798430712 38.90940976699502)  \n",
       "\n",
       "[5 rows x 24 columns]"
      ]
     },
     "execution_count": 51,
     "metadata": {},
     "output_type": "execute_result"
    }
   ],
   "source": [
    "gdf.head()"
   ]
  },
  {
   "cell_type": "code",
   "execution_count": 13,
   "metadata": {},
   "outputs": [
    {
     "data": {
      "text/plain": [
       "0    POINT (-77.00905346917222 38.91222905282211)\n",
       "1    POINT (-76.99617488143458 38.90077072031529)\n",
       "2     POINT (-77.02192057572496 38.9103896453387)\n",
       "3    POINT (-77.00748447412317 38.90373429233588)\n",
       "4    POINT (-76.99755798430712 38.90940976699502)\n",
       "Name: geometry, dtype: object"
      ]
     },
     "execution_count": 13,
     "metadata": {},
     "output_type": "execute_result"
    }
   ],
   "source": [
    "gdf['geometry'].head()"
   ]
  },
  {
   "cell_type": "code",
   "execution_count": 14,
   "metadata": {},
   "outputs": [
    {
     "data": {
      "text/plain": [
       "array(['THEFT F/AUTO', 'THEFT/OTHER', 'MOTOR VEHICLE THEFT', 'BURGLARY',\n",
       "       'ROBBERY', 'ASSAULT W/DANGEROUS WEAPON', 'SEX ABUSE', 'HOMICIDE',\n",
       "       'ARSON'], dtype=object)"
      ]
     },
     "execution_count": 14,
     "metadata": {},
     "output_type": "execute_result"
    }
   ],
   "source": [
    "gdf['OFFENSE'].unique()"
   ]
  },
  {
   "cell_type": "code",
   "execution_count": 15,
   "metadata": {},
   "outputs": [],
   "source": [
    "gdf['REPORT_DAT'] = pd.to_datetime(gdf['REPORT_DAT'], infer_datetime_format=True)\n",
    "gdf['START_DATE'] = pd.to_datetime(gdf['START_DATE'], infer_datetime_format=True)\n",
    "gdf['END_DATE'] = pd.to_datetime(gdf['END_DATE'], infer_datetime_format=True)"
   ]
  },
  {
   "cell_type": "code",
   "execution_count": 16,
   "metadata": {},
   "outputs": [
    {
     "data": {
      "text/plain": [
       "CCN                        object\n",
       "REPORT_DAT    datetime64[ns, UTC]\n",
       "SHIFT                      object\n",
       "METHOD                     object\n",
       "OFFENSE                    object\n",
       "BLOCK                      object\n",
       "XBLOCK                    float64\n",
       "YBLOCK                    float64\n",
       "WARD                       object\n",
       "ANC                        object\n",
       "DISTRICT                   object\n",
       "PSA                        object\n",
       "NEIGHBORHO                 object\n",
       "BLOCK_GROU                 object\n",
       "CENSUS_TRA                 object\n",
       "VOTING_PRE                 object\n",
       "LATITUDE                  float64\n",
       "LONGITUDE                 float64\n",
       "BID                        object\n",
       "START_DATE    datetime64[ns, UTC]\n",
       "END_DATE      datetime64[ns, UTC]\n",
       "OBJECTID                    int64\n",
       "OCTO_RECOR                 object\n",
       "geometry                   object\n",
       "dtype: object"
      ]
     },
     "execution_count": 16,
     "metadata": {},
     "output_type": "execute_result"
    }
   ],
   "source": [
    "gdf.dtypes"
   ]
  },
  {
   "cell_type": "code",
   "execution_count": 36,
   "metadata": {
    "scrolled": true
   },
   "outputs": [
    {
     "data": {
      "image/png": "[encoded data removed]",
      "text/plain": [
       "<Figure size 720x720 with 1 Axes>"
      ]
     },
     "metadata": {
      "needs_background": "light"
     },
     "output_type": "display_data"
    }
   ],
   "source": [
    "import contextily as ctx\n",
    "from fiona.crs import from_epsg\n",
    "\n",
    "def test_plot(gdf, border_gdf):\n",
    "    fig, ax = plt.subplots(figsize=(10,10))\n",
    "    gdf.crs = from_epsg(3857)\n",
    "    border_gdf.crs = from_epsg(3857)\n",
    "#     gdf.to_crs(crs={'init' :'epsg:3857'})\n",
    "#     border_gdf.to_crs(crs={'init' :'epsg:3857'})\n",
    "    border_gdf.plot(ax=ax, color='white', edgecolor='black')\n",
    "    gdf[(gdf['REPORT_DAT'].dt.month == 1) & (gdf['OFFENSE'] == 'BURGLARY')].plot(ax=ax, column='OFFENSE', markersize=5, figsize=(10, 10))\n",
    "    ctx.add_basemap(ax, zoom=10)\n",
    "    ax.set_axis_off()\n",
    "test_plot(gdf, border_gdf)"
   ]
  },
  {
   "cell_type": "code",
   "execution_count": 14,
   "metadata": {},
   "outputs": [],
   "source": [
    "# dc_gdf = gpd.read_file('../Crime Data Project/Dataset/Fence_Wall_and_Miscellaneous_Structure_Lines/Fence_Wall_and_Miscellaneous_Structure_Lines.shp')"
   ]
  },
  {
   "cell_type": "code",
   "execution_count": 15,
   "metadata": {},
   "outputs": [],
   "source": [
    "# base_plt = dc_gdf.plot(figsize=(10, 10), edgecolor='gray')"
   ]
  },
  {
   "cell_type": "code",
   "execution_count": 18,
   "metadata": {},
   "outputs": [],
   "source": [
    "border_gdf = gpd.read_file('../Crime Data Project/Dataset/border/Washington_DC_Boundary.shp')"
   ]
  },
  {
   "cell_type": "code",
   "execution_count": 17,
   "metadata": {},
   "outputs": [],
   "source": [
    "x, y = border_gdf.loc[0,'geometry'].exterior.coords.xy"
   ]
  },
  {
   "cell_type": "code",
   "execution_count": 18,
   "metadata": {},
   "outputs": [],
   "source": [
    "geohashes6 = get_geohashes_from_border(border_gdf.loc[0,'geometry'], precision=6)"
   ]
  },
  {
   "cell_type": "code",
   "execution_count": 19,
   "metadata": {},
   "outputs": [],
   "source": [
    "gh6_gdf = pd.DataFrame(geohashes6, columns=['GEOHASH'])\n",
    "gh6_gdf = get_geohash_shape_df(gh6_gdf)"
   ]
  },
  {
   "cell_type": "code",
   "execution_count": 20,
   "metadata": {},
   "outputs": [
    {
     "data": {
      "text/plain": [
       "<matplotlib.axes._subplots.AxesSubplot at 0x1da6c3ddd08>"
      ]
     },
     "execution_count": 20,
     "metadata": {},
     "output_type": "execute_result"
    },
    {
     "data": {
      "image/png": "[encoded data removed]",
      "text/plain": [
       "<Figure size 720x720 with 1 Axes>"
      ]
     },
     "metadata": {
      "needs_background": "light"
     },
     "output_type": "display_data"
    }
   ],
   "source": [
    "gh6_gdf.plot(color='white', edgecolor='black', figsize=(10,10))"
   ]
  },
  {
   "cell_type": "code",
   "execution_count": 21,
   "metadata": {},
   "outputs": [],
   "source": [
    "# geohashes7 = get_geohashes_from_border(border_gdf.loc[0,'geometry'], precision=7)"
   ]
  },
  {
   "cell_type": "code",
   "execution_count": 22,
   "metadata": {},
   "outputs": [],
   "source": [
    "# gh7_df = pd.DataFrame(geohashes7, columns=['GEOHASH'])\n",
    "# gh7_df = get_geohash_shape_df(gh7_df)"
   ]
  },
  {
   "cell_type": "code",
   "execution_count": 23,
   "metadata": {},
   "outputs": [],
   "source": [
    "# gh7_df.plot(color='white', edgecolor='black', figsize=(10,10))"
   ]
  },
  {
   "cell_type": "code",
   "execution_count": 24,
   "metadata": {},
   "outputs": [
    {
     "data": {
      "image/png": "[encoded data removed]",
      "text/plain": [
       "<Figure size 720x720 with 1 Axes>"
      ]
     },
     "metadata": {
      "needs_background": "light"
     },
     "output_type": "display_data"
    }
   ],
   "source": [
    "border_plt = border_gdf.plot(color='white', edgecolor='black', figsize=(10,10))"
   ]
  },
  {
   "cell_type": "code",
   "execution_count": 25,
   "metadata": {},
   "outputs": [],
   "source": [
    "gdf = geohash_df(gdf)"
   ]
  },
  {
   "cell_type": "code",
   "execution_count": 26,
   "metadata": {
    "scrolled": true
   },
   "outputs": [],
   "source": [
    "gh_gdf = gpd.read_file('../Crime Data Project/Dataset/geohashes/geohashes.shp')"
   ]
  },
  {
   "cell_type": "code",
   "execution_count": 27,
   "metadata": {},
   "outputs": [
    {
     "data": {
      "text/html": [
       "<div>\n",
       "<style scoped>\n",
       "    .dataframe tbody tr th:only-of-type {\n",
       "        vertical-align: middle;\n",
       "    }\n",
       "\n",
       "    .dataframe tbody tr th {\n",
       "        vertical-align: top;\n",
       "    }\n",
       "\n",
       "    .dataframe thead th {\n",
       "        text-align: right;\n",
       "    }\n",
       "</style>\n",
       "<table border=\"1\" class=\"dataframe\">\n",
       "  <thead>\n",
       "    <tr style=\"text-align: right;\">\n",
       "      <th></th>\n",
       "      <th>shape_id</th>\n",
       "      <th>geometry</th>\n",
       "    </tr>\n",
       "  </thead>\n",
       "  <tbody>\n",
       "    <tr>\n",
       "      <td>0</td>\n",
       "      <td>dqchz3</td>\n",
       "      <td>POLYGON ((-77.025146484375 38.814697265625, -7...</td>\n",
       "    </tr>\n",
       "    <tr>\n",
       "      <td>1</td>\n",
       "      <td>dqchz7</td>\n",
       "      <td>POLYGON ((-77.025146484375 38.82568359375, -77...</td>\n",
       "    </tr>\n",
       "    <tr>\n",
       "      <td>2</td>\n",
       "      <td>dqchzd</td>\n",
       "      <td>POLYGON ((-77.01416015625 38.8201904296875, -7...</td>\n",
       "    </tr>\n",
       "    <tr>\n",
       "      <td>3</td>\n",
       "      <td>dqchze</td>\n",
       "      <td>POLYGON ((-77.01416015625 38.82568359375, -77....</td>\n",
       "    </tr>\n",
       "    <tr>\n",
       "      <td>4</td>\n",
       "      <td>dqchzg</td>\n",
       "      <td>POLYGON ((-77.003173828125 38.82568359375, -76...</td>\n",
       "    </tr>\n",
       "  </tbody>\n",
       "</table>\n",
       "</div>"
      ],
      "text/plain": [
       "  shape_id                                           geometry\n",
       "0   dqchz3  POLYGON ((-77.025146484375 38.814697265625, -7...\n",
       "1   dqchz7  POLYGON ((-77.025146484375 38.82568359375, -77...\n",
       "2   dqchzd  POLYGON ((-77.01416015625 38.8201904296875, -7...\n",
       "3   dqchze  POLYGON ((-77.01416015625 38.82568359375, -77....\n",
       "4   dqchzg  POLYGON ((-77.003173828125 38.82568359375, -76..."
      ]
     },
     "execution_count": 27,
     "metadata": {},
     "output_type": "execute_result"
    }
   ],
   "source": [
    "gh_gdf.head()"
   ]
  },
  {
   "cell_type": "code",
   "execution_count": 28,
   "metadata": {},
   "outputs": [
    {
     "data": {
      "text/plain": [
       "<matplotlib.axes._subplots.AxesSubplot at 0x1da6d857dc8>"
      ]
     },
     "execution_count": 28,
     "metadata": {},
     "output_type": "execute_result"
    },
    {
     "data": {
      "image/png": "[encoded data removed]",
      "text/plain": [
       "<Figure size 720x720 with 1 Axes>"
      ]
     },
     "metadata": {
      "needs_background": "light"
     },
     "output_type": "display_data"
    }
   ],
   "source": [
    "fig, ax = plt.subplots(figsize=(10, 10))\n",
    "border_gdf.plot(ax=ax, color='', edgecolor='black', figsize=(10,10))\n",
    "gh_gdf.plot(ax=ax, alpha=0.1, figsize=(10, 10), edgecolor='black')"
   ]
  },
  {
   "cell_type": "code",
   "execution_count": 29,
   "metadata": {},
   "outputs": [
    {
     "data": {
      "text/plain": [
       "<matplotlib.axes._subplots.AxesSubplot at 0x1da6dc88b88>"
      ]
     },
     "execution_count": 29,
     "metadata": {},
     "output_type": "execute_result"
    },
    {
     "data": {
      "image/png": "[encoded data removed]",
      "text/plain": [
       "<Figure size 720x720 with 1 Axes>"
      ]
     },
     "metadata": {
      "needs_background": "light"
     },
     "output_type": "display_data"
    }
   ],
   "source": [
    "fig, ax = plt.subplots(figsize=(10,10))\n",
    "border_gdf.plot(ax=ax, alpha=0.2, edgecolor='black')\n",
    "gh6_gdf.plot(ax=ax, alpha=0.1, edgecolor='gray')\n",
    "# get_geohash_shape_df(lex_df, col_name='Geohash').plot(ax=ax, alpha=0.1, edgecolor='black', color='red')"
   ]
  },
  {
   "cell_type": "code",
   "execution_count": 30,
   "metadata": {},
   "outputs": [],
   "source": [
    "# gdf = gdf.to_crs(epsg=3857)\n",
    "# # dc_gdf = dc_gdf.to_crs(epsg=3857)\n",
    "# border_gdf = border_gdf.to_crs(epsg=3857)\n",
    "# gh_gdf = gh_gdf.to_crs(epsg=3857)\n",
    "\n",
    "# # MERCATOR\n",
    "# # gdf = gdf.to_crs(epsg=3395)\n",
    "# # dc_gdf = dc_gdf.to_crs(epsg=3395)\n",
    "# # border_gdf = border_gdf.to_crs(epsg=3395)\n",
    "# # gh_gdf = gh_gdf.to_crs(epsg=3395)\n",
    "\n",
    "\n",
    "# print(border_gdf.crs)\n",
    "# # print(dc_gdf.crs)\n",
    "# print(gdf.crs)\n",
    "# print(gh_gdf.crs)"
   ]
  },
  {
   "cell_type": "code",
   "execution_count": 31,
   "metadata": {},
   "outputs": [
    {
     "data": {
      "text/plain": [
       "<matplotlib.axes._subplots.AxesSubplot at 0x1da6d88ebc8>"
      ]
     },
     "execution_count": 31,
     "metadata": {},
     "output_type": "execute_result"
    },
    {
     "data": {
      "image/png": "[encoded data removed]",
      "text/plain": [
       "<Figure size 720x720 with 1 Axes>"
      ]
     },
     "metadata": {
      "needs_background": "light"
     },
     "output_type": "display_data"
    }
   ],
   "source": [
    "fig, ax = plt.subplots(figsize=(10, 10))\n",
    "ax.set_aspect('equal')\n",
    "border_gdf.plot(ax=ax, alpha=0.5, edgecolor='black')\n",
    "# dc_gdf.plot(ax=ax, edgecolor='gray')\n",
    "gdf[gdf['OFFENSE'] == 'BURGLARY'].plot(markersize=1, color='red', ax=ax)"
   ]
  },
  {
   "cell_type": "code",
   "execution_count": 32,
   "metadata": {},
   "outputs": [
    {
     "data": {
      "text/plain": [
       "<matplotlib.axes._subplots.AxesSubplot at 0x1da6dcc3f48>"
      ]
     },
     "execution_count": 32,
     "metadata": {},
     "output_type": "execute_result"
    },
    {
     "data": {
      "image/png": "[encoded data removed]",
      "text/plain": [
       "<Figure size 720x720 with 1 Axes>"
      ]
     },
     "metadata": {
      "needs_background": "light"
     },
     "output_type": "display_data"
    }
   ],
   "source": [
    "fig, ax = plt.subplots(figsize=(10,10))\n",
    "ax.set_aspect('equal')\n",
    "gh_gdf.plot(ax=ax, alpha=0.1, edgecolor='gray')\n",
    "border_gdf.plot(ax=ax, alpha=0.2, edgecolor='black')\n",
    "gdf[(gdf['REPORT_DAT'].dt.month == 1) & (gdf['OFFENSE'] == 'BURGLARY')].plot(ax=ax, markersize=1, color='red')"
   ]
  },
  {
   "cell_type": "code",
   "execution_count": 33,
   "metadata": {},
   "outputs": [
    {
     "data": {
      "image/png": "[encoded data removed]",
      "text/plain": [
       "<Figure size 720x720 with 1 Axes>"
      ]
     },
     "metadata": {
      "needs_background": "light"
     },
     "output_type": "display_data"
    }
   ],
   "source": [
    "fig, ax = plt.subplots(figsize=(10,10))\n",
    "ax.set_title('Burglaries in Washington DC in January', fontdict={'fontsize': '25', 'fontweight' : '3'})\n",
    "ax.set_aspect('equal')\n",
    "# border_gdf.plot(ax=ax, alpha=0.2, edgecolor='black', linewidth=2)\n",
    "# dc_gdf.plot(ax=ax, edgecolor='gray')\n",
    "# gdf[(gdf['REPORT_DAT'] > '2010-01-01') & (gdf['REPORT_DAT'] < '2010-02-01') & (gdf['OFFENSE'] == 'BURGLARY')].plot(markersize=1, color='red', ax=ax)\n",
    "gdf[(gdf['REPORT_DAT'].dt.month == 1) & (gdf['OFFENSE'] == 'BURGLARY')].plot(ax=ax, markersize=1, color='red')\n",
    "gh_gdf.plot(ax=ax, alpha=0.1, edgecolor='green')\n",
    "# ctx.add_basemap(ax, zoom=12)\n",
    "ax.set_axis_off() "
   ]
  },
  {
   "cell_type": "markdown",
   "metadata": {},
   "source": [
    "# Data Preparation"
   ]
  },
  {
   "cell_type": "code",
   "execution_count": 34,
   "metadata": {
    "scrolled": true
   },
   "outputs": [],
   "source": [
    "# prepped_df = prepare_data(base_df, prev_week_features, non_prev_week_features, prev_weeks=1, neighbors=0, verbose=True)"
   ]
  },
  {
   "cell_type": "code",
   "execution_count": 35,
   "metadata": {},
   "outputs": [],
   "source": [
    "# prepped_df.reset_index().to_csv('../data/input/preprocessed.csv')"
   ]
  },
  {
   "cell_type": "code",
   "execution_count": 52,
   "metadata": {},
   "outputs": [],
   "source": [
    "prepped_df = pd.read_csv('../data/input/preprocessed.csv')\n",
    "prepped_df = prepped_df.drop(['Unnamed: 0', 'target_crime_count'], axis=1)"
   ]
  },
  {
   "cell_type": "code",
   "execution_count": 53,
   "metadata": {},
   "outputs": [
    {
     "data": {
      "text/plain": [
       "Index(['Unnamed: 0', 'crime_count', 'date', 'month', 'target_crime_count',\n",
       "       'population', 'holidays', 'crime_count_w-1'],\n",
       "      dtype='object')"
      ]
     },
     "execution_count": 53,
     "metadata": {},
     "output_type": "execute_result"
    }
   ],
   "source": [
    "prepped_df.columns"
   ]
  },
  {
   "cell_type": "code",
   "execution_count": 50,
   "metadata": {},
   "outputs": [
    {
     "data": {
      "text/html": [
       "<div>\n",
       "<style scoped>\n",
       "    .dataframe tbody tr th:only-of-type {\n",
       "        vertical-align: middle;\n",
       "    }\n",
       "\n",
       "    .dataframe tbody tr th {\n",
       "        vertical-align: top;\n",
       "    }\n",
       "\n",
       "    .dataframe thead th {\n",
       "        text-align: right;\n",
       "    }\n",
       "</style>\n",
       "<table border=\"1\" class=\"dataframe\">\n",
       "  <thead>\n",
       "    <tr style=\"text-align: right;\">\n",
       "      <th></th>\n",
       "      <th>crime_count</th>\n",
       "      <th>date</th>\n",
       "      <th>month</th>\n",
       "      <th>population</th>\n",
       "      <th>holidays</th>\n",
       "      <th>crime_count_w-1</th>\n",
       "    </tr>\n",
       "  </thead>\n",
       "  <tbody>\n",
       "    <tr>\n",
       "      <td>0</td>\n",
       "      <td>0</td>\n",
       "      <td>2008-01-14</td>\n",
       "      <td>1</td>\n",
       "      <td>1814.0</td>\n",
       "      <td>0</td>\n",
       "      <td>0</td>\n",
       "    </tr>\n",
       "    <tr>\n",
       "      <td>1</td>\n",
       "      <td>0</td>\n",
       "      <td>2008-01-14</td>\n",
       "      <td>1</td>\n",
       "      <td>1814.0</td>\n",
       "      <td>0</td>\n",
       "      <td>0</td>\n",
       "    </tr>\n",
       "    <tr>\n",
       "      <td>2</td>\n",
       "      <td>0</td>\n",
       "      <td>2008-01-14</td>\n",
       "      <td>1</td>\n",
       "      <td>1814.0</td>\n",
       "      <td>0</td>\n",
       "      <td>0</td>\n",
       "    </tr>\n",
       "    <tr>\n",
       "      <td>3</td>\n",
       "      <td>0</td>\n",
       "      <td>2008-01-14</td>\n",
       "      <td>1</td>\n",
       "      <td>1814.0</td>\n",
       "      <td>0</td>\n",
       "      <td>0</td>\n",
       "    </tr>\n",
       "    <tr>\n",
       "      <td>4</td>\n",
       "      <td>0</td>\n",
       "      <td>2008-01-14</td>\n",
       "      <td>1</td>\n",
       "      <td>1814.0</td>\n",
       "      <td>0</td>\n",
       "      <td>0</td>\n",
       "    </tr>\n",
       "  </tbody>\n",
       "</table>\n",
       "</div>"
      ],
      "text/plain": [
       "   crime_count        date  month  population  holidays  crime_count_w-1\n",
       "0            0  2008-01-14      1      1814.0         0                0\n",
       "1            0  2008-01-14      1      1814.0         0                0\n",
       "2            0  2008-01-14      1      1814.0         0                0\n",
       "3            0  2008-01-14      1      1814.0         0                0\n",
       "4            0  2008-01-14      1      1814.0         0                0"
      ]
     },
     "execution_count": 50,
     "metadata": {},
     "output_type": "execute_result"
    }
   ],
   "source": [
    "prepped_df.head()"
   ]
  },
  {
   "cell_type": "code",
   "execution_count": 56,
   "metadata": {},
   "outputs": [],
   "source": [
    "prepped_df = prepped_df.set_index(['year', 'week', 'geohash'])"
   ]
  },
  {
   "cell_type": "code",
   "execution_count": 40,
   "metadata": {},
   "outputs": [
    {
     "data": {
      "text/html": [
       "<div>\n",
       "<style scoped>\n",
       "    .dataframe tbody tr th:only-of-type {\n",
       "        vertical-align: middle;\n",
       "    }\n",
       "\n",
       "    .dataframe tbody tr th {\n",
       "        vertical-align: top;\n",
       "    }\n",
       "\n",
       "    .dataframe thead th {\n",
       "        text-align: right;\n",
       "    }\n",
       "</style>\n",
       "<table border=\"1\" class=\"dataframe\">\n",
       "  <thead>\n",
       "    <tr style=\"text-align: right;\">\n",
       "      <th></th>\n",
       "      <th>shape_id</th>\n",
       "      <th>geometry</th>\n",
       "    </tr>\n",
       "  </thead>\n",
       "  <tbody>\n",
       "    <tr>\n",
       "      <td>16</td>\n",
       "      <td>dqchzd</td>\n",
       "      <td>POLYGON ((-77.01416015625 38.8201904296875, -7...</td>\n",
       "    </tr>\n",
       "  </tbody>\n",
       "</table>\n",
       "</div>"
      ],
      "text/plain": [
       "   shape_id                                           geometry\n",
       "16   dqchzd  POLYGON ((-77.01416015625 38.8201904296875, -7..."
      ]
     },
     "execution_count": 40,
     "metadata": {},
     "output_type": "execute_result"
    }
   ],
   "source": [
    "gh6_gdf[gh6_gdf['shape_id'] == 'dqchzd']"
   ]
  },
  {
   "cell_type": "code",
   "execution_count": 42,
   "metadata": {},
   "outputs": [],
   "source": [
    "# import pygeohash as pgh\n",
    "\n",
    "\n",
    "# def invert_geohash(row):\n",
    "#     precision = len(row['geohash'])\n",
    "#     latitude, longitude, latitude_delta, longitude_delta = pgh.decode_exactly(row['geohash'])\n",
    "#     row['geohash'] = pgh.encode(longitude, latitude, precision=precision)\n",
    "#     return row\n",
    "# prepped_df = prepped_df.apply(invert_geohash, axis=1)"
   ]
  },
  {
   "cell_type": "code",
   "execution_count": null,
   "metadata": {},
   "outputs": [],
   "source": [
    "prepped_df.head()"
   ]
  },
  {
   "cell_type": "code",
   "execution_count": null,
   "metadata": {},
   "outputs": [],
   "source": [
    "len(prepped_df['geohash'].unique())"
   ]
  },
  {
   "cell_type": "code",
   "execution_count": null,
   "metadata": {},
   "outputs": [],
   "source": [
    "get_geohash_shape_df(prepped_df, col_name='geohash').plot(alpha=0.1, edgecolor='gray', figsize=(10,10))"
   ]
  },
  {
   "cell_type": "code",
   "execution_count": null,
   "metadata": {},
   "outputs": [],
   "source": [
    "prepped_df.head()"
   ]
  },
  {
   "cell_type": "code",
   "execution_count": null,
   "metadata": {},
   "outputs": [],
   "source": [
    "from sklearn.model_selection import KFold\n",
    "kf = KFold(n_splits=2)\n",
    "for train, test in kf.split(prepped_df):\n",
    "    print(train, test)\n",
    "    break"
   ]
  },
  {
   "cell_type": "code",
   "execution_count": null,
   "metadata": {},
   "outputs": [],
   "source": [
    "# prepped_df.drop('crime_count', axis=1)"
   ]
  },
  {
   "cell_type": "code",
   "execution_count": null,
   "metadata": {},
   "outputs": [],
   "source": [
    "# from sklearn.model_selection import train_test_split\n",
    "# X_train, X_test, y_train, y_test = train_test_split(prepped_df.drop('crime_count', axis=1), prepped_df['crime_count'], stratify=np.array(list(map(lambda t: (t[0], t[1]), list(prepped_df.index)))), test_size=0.25)"
   ]
  },
  {
   "cell_type": "code",
   "execution_count": null,
   "metadata": {},
   "outputs": [],
   "source": [
    "train_split = .8"
   ]
  },
  {
   "cell_type": "code",
   "execution_count": null,
   "metadata": {},
   "outputs": [],
   "source": [
    "total_weeks = len(prepped_df.groupby(['year', 'week']))\n",
    "train_weeks = round(total_weeks * train_split)\n",
    "test_weeks = round(total_weeks * (1 - train_split))"
   ]
  },
  {
   "cell_type": "code",
   "execution_count": null,
   "metadata": {},
   "outputs": [],
   "source": [
    "train_weeks, test_weeks"
   ]
  },
  {
   "cell_type": "code",
   "execution_count": null,
   "metadata": {},
   "outputs": [],
   "source": [
    "prepped_df = prepped_df.sort_index()"
   ]
  },
  {
   "cell_type": "code",
   "execution_count": null,
   "metadata": {},
   "outputs": [],
   "source": [
    "reload_modules()"
   ]
  },
  {
   "cell_type": "code",
   "execution_count": null,
   "metadata": {},
   "outputs": [],
   "source": [
    "import pygeohash as pgh\n",
    "from shapely.geometry import Point, Polygon\n",
    "\n",
    "# gh = 'hf79gk'\n",
    "# a,b,c,d = pgh.decode_exactly(gh)\n",
    "# inverse_gh = pgh.encode(b,a,precision=6)\n",
    "# test_df = pd.DataFrame([inverse_gh], columns=['geohash'])\n",
    "# test_gdf = get_geohash_shape_df(test_df, col_name='geohash')\n",
    "# test_gdf = test_gdf.append([\n",
    "#     {'shape_id': 'point1', 'geometry': Point(-77.013, 38.824)},\n",
    "#     {'shape_id': 'point1', 'geometry': Point(-77.013, 38.816)}\n",
    "# ])\n",
    "fig, ax = plt.subplots()\n",
    "test_gdf[test_gdf['geometry'].geom_type == 'Point'].plot(ax=ax)\n",
    "test_gdf[test_gdf['geometry'].geom_type == 'Polygon'].plot(ax=ax, alpha=0.1, edgecolor='gray')\n",
    "\n",
    "# pgh.encode(38.824, -77.013, precision=6), pgh.encode(38.816, -77.013, precision=6) ## should be segregated to different hashes\n",
    "# pgh.encode(-77.013, 38.824, precision=6), pgh.encode(-77.013, 38.816, precision=6) ## same hash from u"
   ]
  },
  {
   "cell_type": "markdown",
   "metadata": {},
   "source": [
    "## Preprocessing"
   ]
  },
  {
   "cell_type": "code",
   "execution_count": 101,
   "metadata": {},
   "outputs": [],
   "source": [
    "# abs_gdf = gpd.GeoDataFrame(pd.read_csv('../data/input/final_structure_crime (1).csv'), geometry='geohash_shape')\n",
    "abs_df = pd.read_csv('../data/input/final_structure_crime (1).csv')\n",
    "johnny_df = pd.read_csv('../data/input/burglary.csv')\n",
    "lex_df = pd.read_csv('../data/input/crime_motor_only_FEATURE_READY.csv')"
   ]
  },
  {
   "cell_type": "code",
   "execution_count": 107,
   "metadata": {},
   "outputs": [
    {
     "data": {
      "text/plain": [
       "Index(['start_year', 'start_week', 'Geohash', 'crime_count'], dtype='object')"
      ]
     },
     "execution_count": 107,
     "metadata": {},
     "output_type": "execute_result"
    }
   ],
   "source": [
    "lex_df.columns"
   ]
  },
  {
   "cell_type": "code",
   "execution_count": 91,
   "metadata": {},
   "outputs": [],
   "source": [
    "gh_gdf = pd.read_csv('../data/input/dc_geohash.csv')\n",
    "gh_gdf = get_geohash_shape_df(gh_gdf, col_name='geohash')"
   ]
  },
  {
   "cell_type": "code",
   "execution_count": 108,
   "metadata": {},
   "outputs": [
    {
     "data": {
      "text/html": [
       "<div>\n",
       "<style scoped>\n",
       "    .dataframe tbody tr th:only-of-type {\n",
       "        vertical-align: middle;\n",
       "    }\n",
       "\n",
       "    .dataframe tbody tr th {\n",
       "        vertical-align: top;\n",
       "    }\n",
       "\n",
       "    .dataframe thead th {\n",
       "        text-align: right;\n",
       "    }\n",
       "</style>\n",
       "<table border=\"1\" class=\"dataframe\">\n",
       "  <thead>\n",
       "    <tr style=\"text-align: right;\">\n",
       "      <th></th>\n",
       "      <th>start_year</th>\n",
       "      <th>start_week</th>\n",
       "      <th>Geohash</th>\n",
       "      <th>crime_count</th>\n",
       "    </tr>\n",
       "  </thead>\n",
       "  <tbody>\n",
       "    <tr>\n",
       "      <td>0</td>\n",
       "      <td>2008</td>\n",
       "      <td>1</td>\n",
       "      <td>dqcjqy</td>\n",
       "      <td>1</td>\n",
       "    </tr>\n",
       "    <tr>\n",
       "      <td>1</td>\n",
       "      <td>2008</td>\n",
       "      <td>1</td>\n",
       "      <td>dqcjq5</td>\n",
       "      <td>1</td>\n",
       "    </tr>\n",
       "    <tr>\n",
       "      <td>2</td>\n",
       "      <td>2008</td>\n",
       "      <td>1</td>\n",
       "      <td>dqcm25</td>\n",
       "      <td>1</td>\n",
       "    </tr>\n",
       "    <tr>\n",
       "      <td>3</td>\n",
       "      <td>2008</td>\n",
       "      <td>1</td>\n",
       "      <td>dqcm0e</td>\n",
       "      <td>1</td>\n",
       "    </tr>\n",
       "    <tr>\n",
       "      <td>4</td>\n",
       "      <td>2008</td>\n",
       "      <td>1</td>\n",
       "      <td>dqcm0r</td>\n",
       "      <td>1</td>\n",
       "    </tr>\n",
       "  </tbody>\n",
       "</table>\n",
       "</div>"
      ],
      "text/plain": [
       "   start_year  start_week Geohash  crime_count\n",
       "0        2008           1  dqcjqy            1\n",
       "1        2008           1  dqcjq5            1\n",
       "2        2008           1  dqcm25            1\n",
       "3        2008           1  dqcm0e            1\n",
       "4        2008           1  dqcm0r            1"
      ]
     },
     "execution_count": 108,
     "metadata": {},
     "output_type": "execute_result"
    }
   ],
   "source": [
    "lex_df.head()"
   ]
  },
  {
   "cell_type": "code",
   "execution_count": 96,
   "metadata": {},
   "outputs": [
    {
     "data": {
      "image/png": "[encoded data removed]",
      "text/plain": [
       "<Figure size 720x720 with 1 Axes>"
      ]
     },
     "metadata": {
      "needs_background": "light"
     },
     "output_type": "display_data"
    }
   ],
   "source": [
    "plot_geohashes(gh_gdf, border_gdf)"
   ]
  },
  {
   "cell_type": "code",
   "execution_count": 403,
   "metadata": {},
   "outputs": [
    {
     "ename": "NameError",
     "evalue": "name 'lex_df' is not defined",
     "output_type": "error",
     "traceback": [
      "\u001b[1;31m----------------------------------------------------------------------\u001b[0m",
      "\u001b[1;31mNameError\u001b[0m                            Traceback (most recent call last)",
      "\u001b[1;32m<ipython-input-403-4fdcd8b91d89>\u001b[0m in \u001b[0;36m<module>\u001b[1;34m\u001b[0m\n\u001b[1;32m----> 1\u001b[1;33m \u001b[0mlex_df\u001b[0m \u001b[1;33m=\u001b[0m \u001b[0mlex_df\u001b[0m\u001b[1;33m.\u001b[0m\u001b[0mdrop\u001b[0m\u001b[1;33m(\u001b[0m\u001b[0mCONFIG_PREDROP\u001b[0m\u001b[1;33m[\u001b[0m\u001b[1;34m'lex'\u001b[0m\u001b[1;33m]\u001b[0m\u001b[1;33m,\u001b[0m \u001b[0maxis\u001b[0m\u001b[1;33m=\u001b[0m\u001b[1;36m1\u001b[0m\u001b[1;33m)\u001b[0m\u001b[1;33m\u001b[0m\u001b[1;33m\u001b[0m\u001b[0m\n\u001b[0m",
      "\u001b[1;31mNameError\u001b[0m: name 'lex_df' is not defined"
     ]
    }
   ],
   "source": [
    "lex_df = lex_df.drop(CONFIG_PREDROP['lex'], axis=1)"
   ]
  },
  {
   "cell_type": "markdown",
   "metadata": {},
   "source": [
    "# Sandbox"
   ]
  },
  {
   "cell_type": "markdown",
   "metadata": {},
   "source": [
    "## Theft F/Auto"
   ]
  },
  {
   "cell_type": "markdown",
   "metadata": {},
   "source": [
    "### Random Forest - Regression"
   ]
  },
  {
   "cell_type": "code",
   "execution_count": 12,
   "metadata": {},
   "outputs": [],
   "source": [
    "# cp = CrimePredictor('BURGLARY', prev_weeks=5, neighbors=4) # johnny MAX prev_weeks=5, neighbors = 4\n",
    "# cp = CrimePredictor('MOTOR VEHICLE THEFT', prev_weeks=2, neighbors=2) #lex \n",
    "# cp = CrimePredictor('THEFT F/AUTO', prev_weeks=5, neighbors=4) # abs MAX prev_weeks=5, neighbors = 4"
   ]
  },
  {
   "cell_type": "code",
   "execution_count": 28,
   "metadata": {
    "scrolled": true
   },
   "outputs": [
    {
     "name": "stdout",
     "output_type": "stream",
     "text": [
      "Fetching prepared data...\n",
      "Using pre-trained model...\n",
      "Scores:\n",
      "\tr2: 0.47\n",
      "\tmax_error: 16.88\n",
      "\tmean_absolute_error: 0.62\n",
      "\tmean_squared_error: 0.95\n",
      "Done!\n"
     ]
    }
   ],
   "source": [
    "cp = CrimePredictor('THEFT F/AUTO', prev_weeks=5, neighbors=4, model_type='random_forest') # abs MAX prev_weeks=5, neighbors = 4\n",
    "df = cp.load_data(force=False, verbose=True)\n",
    "df = cp.preprocess()\n",
    "scores, y, y_pred = cp.train_test(force=False, verbose=True)"
   ]
  },
  {
   "cell_type": "code",
   "execution_count": 40,
   "metadata": {},
   "outputs": [
    {
     "data": {
      "image/png": "[encoded data removed]",
      "text/plain": [
       "<Figure size 720x576 with 1 Axes>"
      ]
     },
     "metadata": {
      "needs_background": "light"
     },
     "output_type": "display_data"
    }
   ],
   "source": [
    "cp.feature_importance()"
   ]
  },
  {
   "cell_type": "code",
   "execution_count": 35,
   "metadata": {},
   "outputs": [
    {
     "data": {
      "text/plain": [
       "23"
      ]
     },
     "execution_count": 35,
     "metadata": {},
     "output_type": "execute_result"
    }
   ],
   "source": [
    "len(cp.df.drop('crime_count', axis=1).columns)"
   ]
  },
  {
   "cell_type": "code",
   "execution_count": 43,
   "metadata": {},
   "outputs": [
    {
     "data": {
      "text/plain": [
       "[<matplotlib.lines.Line2D at 0x1dbd6759688>]"
      ]
     },
     "execution_count": 43,
     "metadata": {},
     "output_type": "execute_result"
    },
    {
     "data": {
      "image/png": "[encoded data removed]",
      "text/plain": [
       "<Figure size 432x288 with 1 Axes>"
      ]
     },
     "metadata": {
      "needs_background": "light"
     },
     "output_type": "display_data"
    }
   ],
   "source": [
    "plt.scatter(y_pred,y)\n",
    "# plt.plot([0,0], [25,25])\n",
    "plt.plot(range(0,26), 'r-')"
   ]
  },
  {
   "cell_type": "code",
   "execution_count": 40,
   "metadata": {},
   "outputs": [],
   "source": [
    "class_y = list(map(lambda x: 1 if x > 0.5 else 0, y))\n",
    "class_y_pred = list(map(lambda x: 1 if x > 0.5 else 0, y_pred))"
   ]
  },
  {
   "cell_type": "code",
   "execution_count": 42,
   "metadata": {},
   "outputs": [
    {
     "name": "stdout",
     "output_type": "stream",
     "text": [
      "              precision    recall  f1-score   support\n",
      "\n",
      "           0       0.82      0.74      0.78      9401\n",
      "           1       0.59      0.71      0.65      5083\n",
      "\n",
      "    accuracy                           0.73     14484\n",
      "   macro avg       0.71      0.72      0.71     14484\n",
      "weighted avg       0.74      0.73      0.73     14484\n",
      "\n",
      "[[6954 2447]\n",
      " [1495 3588]]\n"
     ]
    }
   ],
   "source": [
    "from sklearn.metrics import (\n",
    "    classification_report,\n",
    "    confusion_matrix\n",
    ")\n",
    "\n",
    "print(classification_report(class_y, class_y_pred))\n",
    "print(confusion_matrix(class_y, class_y_pred))"
   ]
  },
  {
   "cell_type": "code",
   "execution_count": 47,
   "metadata": {},
   "outputs": [],
   "source": [
    "# plt.scatter(class_y, class_y_pred)\n",
    "# plt.plot([0,0], [25,25])"
   ]
  },
  {
   "cell_type": "markdown",
   "metadata": {},
   "source": [
    "### Random Forest - Classification"
   ]
  },
  {
   "cell_type": "code",
   "execution_count": null,
   "metadata": {},
   "outputs": [],
   "source": [
    "cp = CrimePredictor('THEFT F/AUTO', prev_weeks=5, neighbors=4, model_type='random_forest', task_type='classification') # abs MAX prev_weeks=5, neighbors = 4\n",
    "df = cp.load_data(force=False, verbose=True)\n",
    "df = cp.preprocess()\n",
    "scores, y, y_pred = cp.train_test(force=False, verbose=True)"
   ]
  },
  {
   "cell_type": "code",
   "execution_count": null,
   "metadata": {},
   "outputs": [],
   "source": [
    "cp.feature_importance()"
   ]
  },
  {
   "cell_type": "markdown",
   "metadata": {},
   "source": [
    "### XGBoost - Regression"
   ]
  },
  {
   "cell_type": "code",
   "execution_count": 15,
   "metadata": {
    "scrolled": true
   },
   "outputs": [
    {
     "name": "stdout",
     "output_type": "stream",
     "text": [
      "Fetching prepared data...\n",
      "Training...\n",
      "Fitting with Random Search...\n",
      "Fitting 1 folds for each of 10 candidates, totalling 10 fits\n"
     ]
    },
    {
     "name": "stderr",
     "output_type": "stream",
     "text": [
      "[Parallel(n_jobs=-1)]: Using backend LokyBackend with 4 concurrent workers.\n",
      "[Parallel(n_jobs=-1)]: Done   5 out of  10 | elapsed: 10.5min remaining: 10.5min\n",
      "[Parallel(n_jobs=-1)]: Done   7 out of  10 | elapsed: 15.9min remaining:  6.8min\n",
      "[Parallel(n_jobs=-1)]: Done  10 out of  10 | elapsed: 21.0min finished\n",
      "C:\\Users\\henry\\Anaconda3\\envs\\crime-capstone\\lib\\site-packages\\xgboost\\core.py:587: FutureWarning: Series.base is deprecated and will be removed in a future version\n",
      "  if getattr(data, 'base', None) is not None and \\\n",
      "C:\\Users\\henry\\Anaconda3\\envs\\crime-capstone\\lib\\site-packages\\xgboost\\core.py:588: FutureWarning: Series.base is deprecated and will be removed in a future version\n",
      "  data.base is not None and isinstance(data, np.ndarray) \\\n"
     ]
    },
    {
     "name": "stdout",
     "output_type": "stream",
     "text": [
      "Done fitting...\n",
      "Done!\n",
      "Scores:\n",
      "\tr2: 0.48\n",
      "\tmax_error: 16.92\n",
      "\tmean_absolute_error: 0.61\n",
      "\tmean_squared_error: 0.93\n",
      "Done!\n"
     ]
    }
   ],
   "source": [
    "cp = CrimePredictor('THEFT F/AUTO', prev_weeks=5, neighbors=4, model_type='xgboost') # abs MAX prev_weeks=5, neighbors = 4\n",
    "df = cp.load_data(force=False, verbose=True)\n",
    "df = cp.preprocess()\n",
    "scores, y, y_pred = cp.train_test(force=False, verbose=True)"
   ]
  },
  {
   "cell_type": "markdown",
   "metadata": {},
   "source": [
    "### XGBoost - Classification"
   ]
  },
  {
   "cell_type": "code",
   "execution_count": 7,
   "metadata": {},
   "outputs": [
    {
     "name": "stdout",
     "output_type": "stream",
     "text": [
      "Fetching prepared data...\n",
      "Training...\n",
      "Fitting with Random Search...\n",
      "Fitting 1 folds for each of 10 candidates, totalling 10 fits\n"
     ]
    },
    {
     "name": "stderr",
     "output_type": "stream",
     "text": [
      "[Parallel(n_jobs=-1)]: Using backend LokyBackend with 4 concurrent workers.\n",
      "[Parallel(n_jobs=-1)]: Done   5 out of  10 | elapsed:  9.3min remaining:  9.3min\n",
      "[Parallel(n_jobs=-1)]: Done   7 out of  10 | elapsed: 14.0min remaining:  6.0min\n",
      "[Parallel(n_jobs=-1)]: Done  10 out of  10 | elapsed: 18.6min finished\n"
     ]
    },
    {
     "name": "stdout",
     "output_type": "stream",
     "text": [
      "Done fitting...\n",
      "Done!\n",
      "Scores:\n",
      "\taccuracy: 0.76\n",
      "\tf1: 0.59\n",
      "\tprecision: 0.73\n",
      "\trecall: 0.49\n",
      "\troc_auc: 0.70\n",
      "Done!\n"
     ]
    }
   ],
   "source": [
    "cp = CrimePredictor('THEFT F/AUTO', prev_weeks=5, neighbors=4, model_type='xgboost', task_type='classification') # abs MAX prev_weeks=5, neighbors = 4\n",
    "df = cp.load_data(force=False, verbose=True)\n",
    "df = cp.preprocess()\n",
    "scores, y, y_pred = cp.train_test(force=False, verbose=True)"
   ]
  },
  {
   "cell_type": "markdown",
   "metadata": {},
   "source": [
    "## Burglary"
   ]
  },
  {
   "cell_type": "markdown",
   "metadata": {},
   "source": [
    "### Random Forest - Regression"
   ]
  },
  {
   "cell_type": "code",
   "execution_count": 5,
   "metadata": {},
   "outputs": [],
   "source": [
    "# johnny_df = pd.read_csv('../data/input/dc_burglary.csv')"
   ]
  },
  {
   "cell_type": "code",
   "execution_count": 9,
   "metadata": {},
   "outputs": [],
   "source": [
    "# johnny_df.drop('Unnamed: 12',axis=1).to_csv('dc_burglary.csv', index=False)"
   ]
  },
  {
   "cell_type": "code",
   "execution_count": 8,
   "metadata": {},
   "outputs": [
    {
     "name": "stdout",
     "output_type": "stream",
     "text": [
      "Fetching prepared data...\n",
      "Training...\n",
      "Fitting with Random Search...\n",
      "Fitting 1 folds for each of 10 candidates, totalling 10 fits\n"
     ]
    },
    {
     "name": "stderr",
     "output_type": "stream",
     "text": [
      "[Parallel(n_jobs=-1)]: Using backend LokyBackend with 4 concurrent workers.\n",
      "[Parallel(n_jobs=-1)]: Done   5 out of  10 | elapsed:  7.1min remaining:  7.1min\n",
      "[Parallel(n_jobs=-1)]: Done   7 out of  10 | elapsed: 11.9min remaining:  5.1min\n",
      "[Parallel(n_jobs=-1)]: Done  10 out of  10 | elapsed: 15.3min finished\n"
     ]
    },
    {
     "name": "stdout",
     "output_type": "stream",
     "text": [
      "Done fitting...\n",
      "Done!\n",
      "Scores:\n",
      "\tr2: 0.03\n",
      "\tmax_error: 3.97\n",
      "\tmean_absolute_error: 0.16\n",
      "\tmean_squared_error: 0.08\n",
      "Done!\n"
     ]
    }
   ],
   "source": [
    "cp = CrimePredictor('BURGLARY', prev_weeks=5, neighbors=4, model_type='random_forest') # johnny MAX prev_weeks=5, neighbors = 4\n",
    "df = cp.load_data(force=False, verbose=True)\n",
    "df = cp.preprocess()\n",
    "scores, y, y_pred = cp.train_test(force=False, verbose=True)"
   ]
  },
  {
   "cell_type": "markdown",
   "metadata": {},
   "source": [
    "### Random Forest - Classification"
   ]
  },
  {
   "cell_type": "code",
   "execution_count": 9,
   "metadata": {},
   "outputs": [
    {
     "name": "stdout",
     "output_type": "stream",
     "text": [
      "Fetching prepared data...\n",
      "Training...\n",
      "Fitting with Random Search...\n",
      "Fitting 1 folds for each of 10 candidates, totalling 10 fits\n"
     ]
    },
    {
     "name": "stderr",
     "output_type": "stream",
     "text": [
      "[Parallel(n_jobs=-1)]: Using backend LokyBackend with 4 concurrent workers.\n",
      "[Parallel(n_jobs=-1)]: Done   5 out of  10 | elapsed:  6.0min remaining:  6.0min\n",
      "[Parallel(n_jobs=-1)]: Done   7 out of  10 | elapsed: 10.2min remaining:  4.4min\n",
      "[Parallel(n_jobs=-1)]: Done  10 out of  10 | elapsed: 12.3min finished\n"
     ]
    },
    {
     "name": "stdout",
     "output_type": "stream",
     "text": [
      "Done fitting...\n",
      "Done!\n",
      "Scores:\n",
      "\taccuracy: 0.94\n",
      "\tf1: 0.01\n",
      "\tprecision: 0.50\n",
      "\trecall: 0.00\n",
      "\troc_auc: 0.50\n",
      "Done!\n"
     ]
    }
   ],
   "source": [
    "cp = CrimePredictor('BURGLARY', prev_weeks=5, neighbors=4, model_type='random_forest', task_type='classification') # abs MAX prev_weeks=5, neighbors = 4\n",
    "df = cp.load_data(force=False, verbose=True)\n",
    "df = cp.preprocess()\n",
    "scores, y, y_pred = cp.train_test(force=True, verbose=True)"
   ]
  },
  {
   "cell_type": "markdown",
   "metadata": {},
   "source": [
    "### XGBoost - Regression"
   ]
  },
  {
   "cell_type": "code",
   "execution_count": 10,
   "metadata": {},
   "outputs": [
    {
     "name": "stdout",
     "output_type": "stream",
     "text": [
      "Fetching prepared data...\n",
      "Training...\n",
      "Fitting with Random Search...\n",
      "Fitting 1 folds for each of 10 candidates, totalling 10 fits\n"
     ]
    },
    {
     "name": "stderr",
     "output_type": "stream",
     "text": [
      "[Parallel(n_jobs=-1)]: Using backend LokyBackend with 4 concurrent workers.\n",
      "[Parallel(n_jobs=-1)]: Done   5 out of  10 | elapsed: 10.5min remaining: 10.5min\n",
      "[Parallel(n_jobs=-1)]: Done   7 out of  10 | elapsed: 15.2min remaining:  6.5min\n"
     ]
    },
    {
     "ename": "KeyboardInterrupt",
     "evalue": "",
     "output_type": "error",
     "traceback": [
      "\u001b[1;31m----------------------------------------------------------------------\u001b[0m",
      "\u001b[1;31mKeyboardInterrupt\u001b[0m                    Traceback (most recent call last)",
      "\u001b[1;32m<ipython-input-10-fe2b72b36b55>\u001b[0m in \u001b[0;36m<module>\u001b[1;34m\u001b[0m\n\u001b[0;32m      2\u001b[0m \u001b[0mdf\u001b[0m \u001b[1;33m=\u001b[0m \u001b[0mcr\u001b[0m\u001b[1;33m.\u001b[0m\u001b[0mload_data\u001b[0m\u001b[1;33m(\u001b[0m\u001b[0mforce\u001b[0m\u001b[1;33m=\u001b[0m\u001b[1;32mFalse\u001b[0m\u001b[1;33m,\u001b[0m \u001b[0mverbose\u001b[0m\u001b[1;33m=\u001b[0m\u001b[1;32mTrue\u001b[0m\u001b[1;33m)\u001b[0m\u001b[1;33m\u001b[0m\u001b[1;33m\u001b[0m\u001b[0m\n\u001b[0;32m      3\u001b[0m \u001b[0mdf\u001b[0m \u001b[1;33m=\u001b[0m \u001b[0mcr\u001b[0m\u001b[1;33m.\u001b[0m\u001b[0mpreprocess\u001b[0m\u001b[1;33m(\u001b[0m\u001b[1;33m)\u001b[0m\u001b[1;33m\u001b[0m\u001b[1;33m\u001b[0m\u001b[0m\n\u001b[1;32m----> 4\u001b[1;33m \u001b[0mscores\u001b[0m\u001b[1;33m,\u001b[0m \u001b[0my\u001b[0m\u001b[1;33m,\u001b[0m \u001b[0my_pred\u001b[0m \u001b[1;33m=\u001b[0m \u001b[0mcr\u001b[0m\u001b[1;33m.\u001b[0m\u001b[0mtrain_test\u001b[0m\u001b[1;33m(\u001b[0m\u001b[0mforce\u001b[0m\u001b[1;33m=\u001b[0m\u001b[1;32mTrue\u001b[0m\u001b[1;33m,\u001b[0m \u001b[0mverbose\u001b[0m\u001b[1;33m=\u001b[0m\u001b[1;32mTrue\u001b[0m\u001b[1;33m)\u001b[0m\u001b[1;33m\u001b[0m\u001b[1;33m\u001b[0m\u001b[0m\n\u001b[0m",
      "\u001b[1;32m~\\Documents\\Eskwelabs\\Capstone\\source\\CrimeRegressor.py\u001b[0m in \u001b[0;36mtrain_test\u001b[1;34m(self, force, verbose)\u001b[0m\n\u001b[0;32m     82\u001b[0m                                 \u001b[0mrefit\u001b[0m \u001b[1;33m=\u001b[0m \u001b[1;34m'roc_auc'\u001b[0m\u001b[1;33m\u001b[0m\u001b[1;33m\u001b[0m\u001b[0m\n\u001b[0;32m     83\u001b[0m \u001b[1;33m\u001b[0m\u001b[0m\n\u001b[1;32m---> 84\u001b[1;33m                         \u001b[0mself\u001b[0m\u001b[1;33m.\u001b[0m\u001b[0mmodel\u001b[0m \u001b[1;33m=\u001b[0m \u001b[0mrandom_search\u001b[0m\u001b[1;33m(\u001b[0m\u001b[0mmodel\u001b[0m\u001b[1;33m,\u001b[0m \u001b[0mself\u001b[0m\u001b[1;33m.\u001b[0m\u001b[0mmodel_type\u001b[0m\u001b[1;33m,\u001b[0m \u001b[0mdf\u001b[0m\u001b[1;33m,\u001b[0m \u001b[0mtask_type\u001b[0m\u001b[1;33m=\u001b[0m\u001b[0mself\u001b[0m\u001b[1;33m.\u001b[0m\u001b[0mtask_type\u001b[0m\u001b[1;33m,\u001b[0m \u001b[0mrefit\u001b[0m\u001b[1;33m=\u001b[0m\u001b[0mrefit\u001b[0m\u001b[1;33m,\u001b[0m \u001b[0mverbose\u001b[0m\u001b[1;33m=\u001b[0m\u001b[0mverbose\u001b[0m\u001b[1;33m)\u001b[0m\u001b[1;33m\u001b[0m\u001b[1;33m\u001b[0m\u001b[0m\n\u001b[0m\u001b[0;32m     85\u001b[0m                         \u001b[1;32mif\u001b[0m \u001b[0mverbose\u001b[0m\u001b[1;33m:\u001b[0m\u001b[1;33m\u001b[0m\u001b[1;33m\u001b[0m\u001b[0m\n\u001b[0;32m     86\u001b[0m                                 \u001b[0mprint\u001b[0m\u001b[1;33m(\u001b[0m\u001b[1;34m'Done!'\u001b[0m\u001b[1;33m)\u001b[0m\u001b[1;33m\u001b[0m\u001b[1;33m\u001b[0m\u001b[0m\n",
      "\u001b[1;32m~\\Documents\\Eskwelabs\\Capstone\\utils\\model_utils.py\u001b[0m in \u001b[0;36mrandom_search\u001b[1;34m(model, model_type, df, task_type, refit, verbose)\u001b[0m\n\u001b[0;32m    212\u001b[0m         \u001b[1;32mif\u001b[0m \u001b[0mtask_type\u001b[0m \u001b[1;33m==\u001b[0m \u001b[1;34m'classification'\u001b[0m\u001b[1;33m:\u001b[0m\u001b[1;33m\u001b[0m\u001b[1;33m\u001b[0m\u001b[0m\n\u001b[0;32m    213\u001b[0m                 \u001b[0my_train\u001b[0m \u001b[1;33m=\u001b[0m \u001b[0my_train\u001b[0m\u001b[1;33m.\u001b[0m\u001b[0mapply\u001b[0m\u001b[1;33m(\u001b[0m\u001b[1;32mlambda\u001b[0m \u001b[0mx\u001b[0m\u001b[1;33m:\u001b[0m \u001b[1;36m1\u001b[0m \u001b[1;32mif\u001b[0m \u001b[0mx\u001b[0m \u001b[1;33m>\u001b[0m \u001b[1;36m0.5\u001b[0m \u001b[1;32melse\u001b[0m \u001b[1;36m0\u001b[0m\u001b[1;33m)\u001b[0m\u001b[1;33m.\u001b[0m\u001b[0mround\u001b[0m\u001b[1;33m(\u001b[0m\u001b[1;36m0\u001b[0m\u001b[1;33m)\u001b[0m\u001b[1;33m.\u001b[0m\u001b[0mastype\u001b[0m\u001b[1;33m(\u001b[0m\u001b[0mint\u001b[0m\u001b[1;33m)\u001b[0m\u001b[1;33m\u001b[0m\u001b[1;33m\u001b[0m\u001b[0m\n\u001b[1;32m--> 214\u001b[1;33m         \u001b[0mrandom_search\u001b[0m\u001b[1;33m.\u001b[0m\u001b[0mfit\u001b[0m\u001b[1;33m(\u001b[0m\u001b[0mX_train\u001b[0m\u001b[1;33m,\u001b[0m \u001b[0my_train\u001b[0m\u001b[1;33m)\u001b[0m\u001b[1;33m\u001b[0m\u001b[1;33m\u001b[0m\u001b[0m\n\u001b[0m\u001b[0;32m    215\u001b[0m         \u001b[1;32mif\u001b[0m \u001b[0mverbose\u001b[0m\u001b[1;33m:\u001b[0m\u001b[1;33m\u001b[0m\u001b[1;33m\u001b[0m\u001b[0m\n\u001b[0;32m    216\u001b[0m                 \u001b[0mprint\u001b[0m\u001b[1;33m(\u001b[0m\u001b[1;34m'Done fitting...'\u001b[0m\u001b[1;33m)\u001b[0m\u001b[1;33m\u001b[0m\u001b[1;33m\u001b[0m\u001b[0m\n",
      "\u001b[1;32m~\\Anaconda3\\envs\\crime-capstone\\lib\\site-packages\\sklearn\\model_selection\\_search.py\u001b[0m in \u001b[0;36mfit\u001b[1;34m(self, X, y, groups, **fit_params)\u001b[0m\n\u001b[0;32m    685\u001b[0m                 \u001b[1;32mreturn\u001b[0m \u001b[0mresults\u001b[0m\u001b[1;33m\u001b[0m\u001b[1;33m\u001b[0m\u001b[0m\n\u001b[0;32m    686\u001b[0m \u001b[1;33m\u001b[0m\u001b[0m\n\u001b[1;32m--> 687\u001b[1;33m             \u001b[0mself\u001b[0m\u001b[1;33m.\u001b[0m\u001b[0m_run_search\u001b[0m\u001b[1;33m(\u001b[0m\u001b[0mevaluate_candidates\u001b[0m\u001b[1;33m)\u001b[0m\u001b[1;33m\u001b[0m\u001b[1;33m\u001b[0m\u001b[0m\n\u001b[0m\u001b[0;32m    688\u001b[0m \u001b[1;33m\u001b[0m\u001b[0m\n\u001b[0;32m    689\u001b[0m         \u001b[1;31m# For multi-metric evaluation, store the best_index_, best_params_ and\u001b[0m\u001b[1;33m\u001b[0m\u001b[1;33m\u001b[0m\u001b[1;33m\u001b[0m\u001b[0m\n",
      "\u001b[1;32m~\\Anaconda3\\envs\\crime-capstone\\lib\\site-packages\\sklearn\\model_selection\\_search.py\u001b[0m in \u001b[0;36m_run_search\u001b[1;34m(self, evaluate_candidates)\u001b[0m\n\u001b[0;32m   1466\u001b[0m         evaluate_candidates(ParameterSampler(\n\u001b[0;32m   1467\u001b[0m             \u001b[0mself\u001b[0m\u001b[1;33m.\u001b[0m\u001b[0mparam_distributions\u001b[0m\u001b[1;33m,\u001b[0m \u001b[0mself\u001b[0m\u001b[1;33m.\u001b[0m\u001b[0mn_iter\u001b[0m\u001b[1;33m,\u001b[0m\u001b[1;33m\u001b[0m\u001b[1;33m\u001b[0m\u001b[0m\n\u001b[1;32m-> 1468\u001b[1;33m             random_state=self.random_state))\n\u001b[0m",
      "\u001b[1;32m~\\Anaconda3\\envs\\crime-capstone\\lib\\site-packages\\sklearn\\model_selection\\_search.py\u001b[0m in \u001b[0;36mevaluate_candidates\u001b[1;34m(candidate_params)\u001b[0m\n\u001b[0;32m    664\u001b[0m                                \u001b[1;32mfor\u001b[0m \u001b[0mparameters\u001b[0m\u001b[1;33m,\u001b[0m \u001b[1;33m(\u001b[0m\u001b[0mtrain\u001b[0m\u001b[1;33m,\u001b[0m \u001b[0mtest\u001b[0m\u001b[1;33m)\u001b[0m\u001b[1;33m\u001b[0m\u001b[1;33m\u001b[0m\u001b[0m\n\u001b[0;32m    665\u001b[0m                                in product(candidate_params,\n\u001b[1;32m--> 666\u001b[1;33m                                           cv.split(X, y, groups)))\n\u001b[0m\u001b[0;32m    667\u001b[0m \u001b[1;33m\u001b[0m\u001b[0m\n\u001b[0;32m    668\u001b[0m                 \u001b[1;32mif\u001b[0m \u001b[0mlen\u001b[0m\u001b[1;33m(\u001b[0m\u001b[0mout\u001b[0m\u001b[1;33m)\u001b[0m \u001b[1;33m<\u001b[0m \u001b[1;36m1\u001b[0m\u001b[1;33m:\u001b[0m\u001b[1;33m\u001b[0m\u001b[1;33m\u001b[0m\u001b[0m\n",
      "\u001b[1;32m~\\Anaconda3\\envs\\crime-capstone\\lib\\site-packages\\joblib\\parallel.py\u001b[0m in \u001b[0;36m__call__\u001b[1;34m(self, iterable)\u001b[0m\n\u001b[0;32m    932\u001b[0m \u001b[1;33m\u001b[0m\u001b[0m\n\u001b[0;32m    933\u001b[0m             \u001b[1;32mwith\u001b[0m \u001b[0mself\u001b[0m\u001b[1;33m.\u001b[0m\u001b[0m_backend\u001b[0m\u001b[1;33m.\u001b[0m\u001b[0mretrieval_context\u001b[0m\u001b[1;33m(\u001b[0m\u001b[1;33m)\u001b[0m\u001b[1;33m:\u001b[0m\u001b[1;33m\u001b[0m\u001b[1;33m\u001b[0m\u001b[0m\n\u001b[1;32m--> 934\u001b[1;33m                 \u001b[0mself\u001b[0m\u001b[1;33m.\u001b[0m\u001b[0mretrieve\u001b[0m\u001b[1;33m(\u001b[0m\u001b[1;33m)\u001b[0m\u001b[1;33m\u001b[0m\u001b[1;33m\u001b[0m\u001b[0m\n\u001b[0m\u001b[0;32m    935\u001b[0m             \u001b[1;31m# Make sure that we get a last message telling us we are done\u001b[0m\u001b[1;33m\u001b[0m\u001b[1;33m\u001b[0m\u001b[1;33m\u001b[0m\u001b[0m\n\u001b[0;32m    936\u001b[0m             \u001b[0melapsed_time\u001b[0m \u001b[1;33m=\u001b[0m \u001b[0mtime\u001b[0m\u001b[1;33m.\u001b[0m\u001b[0mtime\u001b[0m\u001b[1;33m(\u001b[0m\u001b[1;33m)\u001b[0m \u001b[1;33m-\u001b[0m \u001b[0mself\u001b[0m\u001b[1;33m.\u001b[0m\u001b[0m_start_time\u001b[0m\u001b[1;33m\u001b[0m\u001b[1;33m\u001b[0m\u001b[0m\n",
      "\u001b[1;32m~\\Anaconda3\\envs\\crime-capstone\\lib\\site-packages\\joblib\\parallel.py\u001b[0m in \u001b[0;36mretrieve\u001b[1;34m(self)\u001b[0m\n\u001b[0;32m    831\u001b[0m             \u001b[1;32mtry\u001b[0m\u001b[1;33m:\u001b[0m\u001b[1;33m\u001b[0m\u001b[1;33m\u001b[0m\u001b[0m\n\u001b[0;32m    832\u001b[0m                 \u001b[1;32mif\u001b[0m \u001b[0mgetattr\u001b[0m\u001b[1;33m(\u001b[0m\u001b[0mself\u001b[0m\u001b[1;33m.\u001b[0m\u001b[0m_backend\u001b[0m\u001b[1;33m,\u001b[0m \u001b[1;34m'supports_timeout'\u001b[0m\u001b[1;33m,\u001b[0m \u001b[1;32mFalse\u001b[0m\u001b[1;33m)\u001b[0m\u001b[1;33m:\u001b[0m\u001b[1;33m\u001b[0m\u001b[1;33m\u001b[0m\u001b[0m\n\u001b[1;32m--> 833\u001b[1;33m                     \u001b[0mself\u001b[0m\u001b[1;33m.\u001b[0m\u001b[0m_output\u001b[0m\u001b[1;33m.\u001b[0m\u001b[0mextend\u001b[0m\u001b[1;33m(\u001b[0m\u001b[0mjob\u001b[0m\u001b[1;33m.\u001b[0m\u001b[0mget\u001b[0m\u001b[1;33m(\u001b[0m\u001b[0mtimeout\u001b[0m\u001b[1;33m=\u001b[0m\u001b[0mself\u001b[0m\u001b[1;33m.\u001b[0m\u001b[0mtimeout\u001b[0m\u001b[1;33m)\u001b[0m\u001b[1;33m)\u001b[0m\u001b[1;33m\u001b[0m\u001b[1;33m\u001b[0m\u001b[0m\n\u001b[0m\u001b[0;32m    834\u001b[0m                 \u001b[1;32melse\u001b[0m\u001b[1;33m:\u001b[0m\u001b[1;33m\u001b[0m\u001b[1;33m\u001b[0m\u001b[0m\n\u001b[0;32m    835\u001b[0m                     \u001b[0mself\u001b[0m\u001b[1;33m.\u001b[0m\u001b[0m_output\u001b[0m\u001b[1;33m.\u001b[0m\u001b[0mextend\u001b[0m\u001b[1;33m(\u001b[0m\u001b[0mjob\u001b[0m\u001b[1;33m.\u001b[0m\u001b[0mget\u001b[0m\u001b[1;33m(\u001b[0m\u001b[1;33m)\u001b[0m\u001b[1;33m)\u001b[0m\u001b[1;33m\u001b[0m\u001b[1;33m\u001b[0m\u001b[0m\n",
      "\u001b[1;32m~\\Anaconda3\\envs\\crime-capstone\\lib\\site-packages\\joblib\\_parallel_backends.py\u001b[0m in \u001b[0;36mwrap_future_result\u001b[1;34m(future, timeout)\u001b[0m\n\u001b[0;32m    519\u001b[0m         AsyncResults.get from multiprocessing.\"\"\"\n\u001b[0;32m    520\u001b[0m         \u001b[1;32mtry\u001b[0m\u001b[1;33m:\u001b[0m\u001b[1;33m\u001b[0m\u001b[1;33m\u001b[0m\u001b[0m\n\u001b[1;32m--> 521\u001b[1;33m             \u001b[1;32mreturn\u001b[0m \u001b[0mfuture\u001b[0m\u001b[1;33m.\u001b[0m\u001b[0mresult\u001b[0m\u001b[1;33m(\u001b[0m\u001b[0mtimeout\u001b[0m\u001b[1;33m=\u001b[0m\u001b[0mtimeout\u001b[0m\u001b[1;33m)\u001b[0m\u001b[1;33m\u001b[0m\u001b[1;33m\u001b[0m\u001b[0m\n\u001b[0m\u001b[0;32m    522\u001b[0m         \u001b[1;32mexcept\u001b[0m \u001b[0mLokyTimeoutError\u001b[0m\u001b[1;33m:\u001b[0m\u001b[1;33m\u001b[0m\u001b[1;33m\u001b[0m\u001b[0m\n\u001b[0;32m    523\u001b[0m             \u001b[1;32mraise\u001b[0m \u001b[0mTimeoutError\u001b[0m\u001b[1;33m(\u001b[0m\u001b[1;33m)\u001b[0m\u001b[1;33m\u001b[0m\u001b[1;33m\u001b[0m\u001b[0m\n",
      "\u001b[1;32m~\\Anaconda3\\envs\\crime-capstone\\lib\\concurrent\\futures\\_base.py\u001b[0m in \u001b[0;36mresult\u001b[1;34m(self, timeout)\u001b[0m\n\u001b[0;32m    428\u001b[0m                 \u001b[1;32mreturn\u001b[0m \u001b[0mself\u001b[0m\u001b[1;33m.\u001b[0m\u001b[0m__get_result\u001b[0m\u001b[1;33m(\u001b[0m\u001b[1;33m)\u001b[0m\u001b[1;33m\u001b[0m\u001b[1;33m\u001b[0m\u001b[0m\n\u001b[0;32m    429\u001b[0m \u001b[1;33m\u001b[0m\u001b[0m\n\u001b[1;32m--> 430\u001b[1;33m             \u001b[0mself\u001b[0m\u001b[1;33m.\u001b[0m\u001b[0m_condition\u001b[0m\u001b[1;33m.\u001b[0m\u001b[0mwait\u001b[0m\u001b[1;33m(\u001b[0m\u001b[0mtimeout\u001b[0m\u001b[1;33m)\u001b[0m\u001b[1;33m\u001b[0m\u001b[1;33m\u001b[0m\u001b[0m\n\u001b[0m\u001b[0;32m    431\u001b[0m \u001b[1;33m\u001b[0m\u001b[0m\n\u001b[0;32m    432\u001b[0m             \u001b[1;32mif\u001b[0m \u001b[0mself\u001b[0m\u001b[1;33m.\u001b[0m\u001b[0m_state\u001b[0m \u001b[1;32min\u001b[0m \u001b[1;33m[\u001b[0m\u001b[0mCANCELLED\u001b[0m\u001b[1;33m,\u001b[0m \u001b[0mCANCELLED_AND_NOTIFIED\u001b[0m\u001b[1;33m]\u001b[0m\u001b[1;33m:\u001b[0m\u001b[1;33m\u001b[0m\u001b[1;33m\u001b[0m\u001b[0m\n",
      "\u001b[1;32m~\\Anaconda3\\envs\\crime-capstone\\lib\\threading.py\u001b[0m in \u001b[0;36mwait\u001b[1;34m(self, timeout)\u001b[0m\n\u001b[0;32m    294\u001b[0m         \u001b[1;32mtry\u001b[0m\u001b[1;33m:\u001b[0m    \u001b[1;31m# restore state no matter what (e.g., KeyboardInterrupt)\u001b[0m\u001b[1;33m\u001b[0m\u001b[1;33m\u001b[0m\u001b[0m\n\u001b[0;32m    295\u001b[0m             \u001b[1;32mif\u001b[0m \u001b[0mtimeout\u001b[0m \u001b[1;32mis\u001b[0m \u001b[1;32mNone\u001b[0m\u001b[1;33m:\u001b[0m\u001b[1;33m\u001b[0m\u001b[1;33m\u001b[0m\u001b[0m\n\u001b[1;32m--> 296\u001b[1;33m                 \u001b[0mwaiter\u001b[0m\u001b[1;33m.\u001b[0m\u001b[0macquire\u001b[0m\u001b[1;33m(\u001b[0m\u001b[1;33m)\u001b[0m\u001b[1;33m\u001b[0m\u001b[1;33m\u001b[0m\u001b[0m\n\u001b[0m\u001b[0;32m    297\u001b[0m                 \u001b[0mgotit\u001b[0m \u001b[1;33m=\u001b[0m \u001b[1;32mTrue\u001b[0m\u001b[1;33m\u001b[0m\u001b[1;33m\u001b[0m\u001b[0m\n\u001b[0;32m    298\u001b[0m             \u001b[1;32melse\u001b[0m\u001b[1;33m:\u001b[0m\u001b[1;33m\u001b[0m\u001b[1;33m\u001b[0m\u001b[0m\n",
      "\u001b[1;31mKeyboardInterrupt\u001b[0m: "
     ]
    }
   ],
   "source": [
    "cp = CrimePredictor('BURGLARY', prev_weeks=5, neighbors=4, model_type='xgboost') # johnny MAX prev_weeks=5, neighbors = 4\n",
    "df = cp.load_data(force=False, verbose=True)\n",
    "df = cp.preprocess()\n",
    "scores, y, y_pred = cp.train_test(force=True, verbose=True)"
   ]
  },
  {
   "cell_type": "markdown",
   "metadata": {},
   "source": [
    "### XGBoost - Classification"
   ]
  },
  {
   "cell_type": "code",
   "execution_count": null,
   "metadata": {},
   "outputs": [],
   "source": [
    "cp = CrimePredictor('BURGLARY', prev_weeks=5, neighbors=4, model_type='xgboost', task_type='classification') # abs MAX prev_weeks=5, neighbors = 4\n",
    "df = cp.load_data(force=False, verbose=True)\n",
    "df = cp.preprocess()\n",
    "scores, y, y_pred = cp.train_test(force=True, verbose=True)"
   ]
  },
  {
   "cell_type": "markdown",
   "metadata": {},
   "source": [
    "## Motor Vehicle Theft"
   ]
  },
  {
   "cell_type": "markdown",
   "metadata": {},
   "source": [
    "### Random Forest - Regression"
   ]
  },
  {
   "cell_type": "code",
   "execution_count": 6,
   "metadata": {},
   "outputs": [
    {
     "name": "stdout",
     "output_type": "stream",
     "text": [
      "Processing Year 2010\n",
      "Processing Week 6\n",
      "Processing Week 7\n",
      "Processing Week 8\n",
      "Processing Week 9\n",
      "Processing Week 10\n",
      "Processing Week 11\n",
      "Processing Week 12\n",
      "Processing Week 13\n",
      "Processing Week 14\n",
      "Processing Week 15\n",
      "Processing Week 16\n",
      "Processing Week 17\n",
      "Processing Week 18\n",
      "Processing Week 19\n",
      "Processing Week 20\n",
      "Processing Week 21\n",
      "Processing Week 22\n",
      "Processing Week 23\n",
      "Processing Week 24\n",
      "Processing Week 25\n",
      "Processing Week 26\n",
      "Processing Week 27\n",
      "Processing Week 28\n",
      "Processing Week 29\n",
      "Processing Week 30\n",
      "Processing Week 31\n",
      "Processing Week 32\n",
      "Processing Week 33\n",
      "Processing Week 34\n",
      "Processing Week 35\n",
      "Processing Week 36\n",
      "Processing Week 37\n",
      "Processing Week 38\n",
      "Processing Week 39\n",
      "Processing Week 40\n",
      "Processing Week 41\n",
      "Processing Week 42\n",
      "Processing Week 43\n",
      "Processing Week 44\n",
      "Processing Week 45\n",
      "Processing Week 46\n",
      "Processing Week 47\n",
      "Processing Week 48\n",
      "Processing Week 49\n",
      "Processing Week 50\n",
      "Processing Week 51\n",
      "Processing Week 52\n",
      "Processing Year 2011\n",
      "Processing Week 1\n",
      "Processing Week 2\n",
      "Processing Week 3\n",
      "Processing Week 4\n",
      "Processing Week 5\n",
      "Processing Week 6\n",
      "Processing Week 7\n",
      "Processing Week 8\n",
      "Processing Week 9\n",
      "Processing Week 10\n",
      "Processing Week 11\n",
      "Processing Week 12\n",
      "Processing Week 13\n",
      "Processing Week 14\n",
      "Processing Week 15\n",
      "Processing Week 16\n",
      "Processing Week 17\n",
      "Processing Week 18\n",
      "Processing Week 19\n",
      "Processing Week 20\n",
      "Processing Week 21\n",
      "Processing Week 22\n",
      "Processing Week 23\n",
      "Processing Week 24\n",
      "Processing Week 25\n",
      "Processing Week 26\n",
      "Processing Week 27\n",
      "Processing Week 28\n",
      "Processing Week 29\n",
      "Processing Week 30\n",
      "Processing Week 31\n",
      "Processing Week 32\n",
      "Processing Week 33\n",
      "Processing Week 34\n",
      "Processing Week 35\n",
      "Processing Week 36\n",
      "Processing Week 37\n",
      "Processing Week 38\n",
      "Processing Week 39\n",
      "Processing Week 40\n",
      "Processing Week 41\n",
      "Processing Week 42\n",
      "Processing Week 43\n",
      "Processing Week 44\n",
      "Processing Week 45\n",
      "Processing Week 46\n",
      "Processing Week 47\n",
      "Processing Week 48\n",
      "Processing Week 49\n",
      "Processing Week 50\n",
      "Processing Week 51\n",
      "Processing Week 52\n",
      "Processing Year 2012\n",
      "Processing Week 1\n",
      "Processing Week 2\n",
      "Processing Week 3\n",
      "Processing Week 4\n",
      "Processing Week 5\n",
      "Processing Week 6\n",
      "Processing Week 7\n",
      "Processing Week 8\n",
      "Processing Week 9\n",
      "Processing Week 10\n",
      "Processing Week 11\n",
      "Processing Week 12\n",
      "Processing Week 13\n",
      "Processing Week 14\n",
      "Processing Week 15\n",
      "Processing Week 16\n",
      "Processing Week 17\n",
      "Processing Week 18\n",
      "Processing Week 19\n",
      "Processing Week 20\n",
      "Processing Week 21\n",
      "Processing Week 22\n",
      "Processing Week 23\n",
      "Processing Week 24\n",
      "Processing Week 25\n",
      "Processing Week 26\n",
      "Processing Week 27\n",
      "Processing Week 28\n",
      "Processing Week 29\n",
      "Processing Week 30\n",
      "Processing Week 31\n",
      "Processing Week 32\n",
      "Processing Week 33\n",
      "Processing Week 34\n",
      "Processing Week 35\n",
      "Processing Week 36\n",
      "Processing Week 37\n",
      "Processing Week 38\n",
      "Processing Week 39\n",
      "Processing Week 40\n",
      "Processing Week 41\n",
      "Processing Week 42\n",
      "Processing Week 43\n",
      "Processing Week 44\n",
      "Processing Week 45\n",
      "Processing Week 46\n",
      "Processing Week 47\n",
      "Processing Week 48\n",
      "Processing Week 49\n",
      "Processing Week 50\n",
      "Processing Week 51\n",
      "Processing Week 52\n",
      "Processing Year 2013\n",
      "Processing Week 1\n",
      "Processing Week 2\n",
      "Processing Week 3\n",
      "Processing Week 4\n",
      "Processing Week 5\n",
      "Processing Week 6\n",
      "Processing Week 7\n",
      "Processing Week 8\n",
      "Processing Week 9\n",
      "Processing Week 10\n",
      "Processing Week 11\n",
      "Processing Week 12\n",
      "Processing Week 13\n",
      "Processing Week 14\n",
      "Processing Week 15\n",
      "Processing Week 16\n",
      "Processing Week 17\n",
      "Processing Week 18\n",
      "Processing Week 19\n",
      "Processing Week 20\n",
      "Processing Week 21\n",
      "Processing Week 22\n",
      "Processing Week 23\n",
      "Processing Week 24\n",
      "Processing Week 25\n",
      "Processing Week 26\n",
      "Processing Week 27\n",
      "Processing Week 28\n",
      "Processing Week 29\n",
      "Processing Week 30\n",
      "Processing Week 31\n",
      "Processing Week 32\n",
      "Processing Week 33\n",
      "Processing Week 34\n",
      "Processing Week 35\n",
      "Processing Week 36\n",
      "Processing Week 37\n",
      "Processing Week 38\n",
      "Processing Week 39\n",
      "Processing Week 40\n",
      "Processing Week 41\n",
      "Processing Week 42\n",
      "Processing Week 43\n",
      "Processing Week 44\n",
      "Processing Week 45\n",
      "Processing Week 46\n",
      "Processing Week 47\n",
      "Processing Week 48\n",
      "Processing Week 49\n",
      "Processing Week 50\n",
      "Processing Week 51\n",
      "Processing Week 52\n",
      "Processing Year 2014\n",
      "Processing Week 1\n",
      "Processing Week 2\n",
      "Processing Week 3\n",
      "Processing Week 4\n",
      "Processing Week 5\n",
      "Processing Week 6\n",
      "Processing Week 7\n",
      "Processing Week 8\n",
      "Processing Week 9\n",
      "Processing Week 10\n",
      "Processing Week 11\n",
      "Processing Week 12\n",
      "Processing Week 13\n",
      "Processing Week 14\n",
      "Processing Week 15\n",
      "Processing Week 16\n",
      "Processing Week 17\n",
      "Processing Week 18\n",
      "Processing Week 19\n",
      "Processing Week 20\n",
      "Processing Week 21\n",
      "Processing Week 22\n",
      "Processing Week 23\n",
      "Processing Week 24\n",
      "Processing Week 25\n",
      "Processing Week 26\n",
      "Processing Week 27\n",
      "Processing Week 28\n",
      "Processing Week 29\n",
      "Processing Week 30\n",
      "Processing Week 31\n",
      "Processing Week 32\n",
      "Processing Week 33\n",
      "Processing Week 34\n",
      "Processing Week 35\n",
      "Processing Week 36\n",
      "Processing Week 37\n",
      "Processing Week 38\n",
      "Processing Week 39\n",
      "Processing Week 40\n",
      "Processing Week 41\n",
      "Processing Week 42\n",
      "Processing Week 43\n",
      "Processing Week 44\n",
      "Processing Week 45\n",
      "Processing Week 46\n",
      "Processing Week 47\n",
      "Processing Week 48\n",
      "Processing Week 49\n",
      "Processing Week 50\n",
      "Processing Week 51\n",
      "Processing Week 52\n",
      "Processing Year 2015\n",
      "Processing Week 1\n",
      "Processing Week 2\n",
      "Processing Week 3\n",
      "Processing Week 4\n",
      "Processing Week 5\n",
      "Processing Week 6\n",
      "Processing Week 7\n",
      "Processing Week 8\n",
      "Processing Week 9\n",
      "Processing Week 10\n",
      "Processing Week 11\n",
      "Processing Week 12\n",
      "Processing Week 13\n",
      "Processing Week 14\n",
      "Processing Week 15\n",
      "Processing Week 16\n",
      "Processing Week 17\n",
      "Processing Week 18\n",
      "Processing Week 19\n",
      "Processing Week 20\n",
      "Processing Week 21\n",
      "Processing Week 22\n",
      "Processing Week 23\n",
      "Processing Week 24\n",
      "Processing Week 25\n",
      "Processing Week 26\n",
      "Processing Week 27\n",
      "Processing Week 28\n",
      "Processing Week 29\n",
      "Processing Week 30\n",
      "Processing Week 31\n",
      "Processing Week 32\n",
      "Processing Week 33\n",
      "Processing Week 34\n",
      "Processing Week 35\n",
      "Processing Week 36\n",
      "Processing Week 37\n",
      "Processing Week 38\n",
      "Processing Week 39\n",
      "Processing Week 40\n",
      "Processing Week 41\n",
      "Processing Week 42\n",
      "Processing Week 43\n",
      "Processing Week 44\n",
      "Processing Week 45\n",
      "Processing Week 46\n",
      "Processing Week 47\n",
      "Processing Week 48\n",
      "Processing Week 49\n",
      "Processing Week 50\n",
      "Processing Week 51\n",
      "Processing Week 52\n",
      "Processing Week 53\n",
      "Processing Year 2016\n",
      "Processing Week 1\n",
      "Processing Week 2\n",
      "Processing Week 3\n",
      "Processing Week 4\n",
      "Processing Week 5\n",
      "Processing Week 6\n",
      "Processing Week 7\n",
      "Processing Week 8\n",
      "Processing Week 9\n",
      "Processing Week 10\n",
      "Processing Week 11\n",
      "Processing Week 12\n",
      "Processing Week 13\n",
      "Processing Week 14\n",
      "Processing Week 15\n",
      "Processing Week 16\n",
      "Processing Week 17\n",
      "Processing Week 18\n",
      "Processing Week 19\n",
      "Processing Week 20\n",
      "Processing Week 21\n",
      "Processing Week 22\n",
      "Processing Week 23\n",
      "Processing Week 24\n",
      "Processing Week 25\n",
      "Processing Week 26\n",
      "Processing Week 27\n",
      "Processing Week 28\n",
      "Processing Week 29\n",
      "Processing Week 30\n",
      "Processing Week 31\n",
      "Processing Week 32\n",
      "Processing Week 33\n",
      "Processing Week 34\n",
      "Processing Week 35\n",
      "Processing Week 36\n",
      "Processing Week 37\n",
      "Processing Week 38\n",
      "Processing Week 39\n",
      "Processing Week 40\n",
      "Processing Week 41\n",
      "Processing Week 42\n",
      "Processing Week 43\n",
      "Processing Week 44\n",
      "Processing Week 45\n",
      "Processing Week 46\n",
      "Processing Week 47\n",
      "Processing Week 48\n",
      "Processing Week 49\n",
      "Processing Week 50\n",
      "Processing Week 51\n",
      "Processing Week 52\n",
      "Processing Year 2017\n",
      "Processing Week 1\n",
      "Processing Week 2\n",
      "Processing Week 3\n",
      "Processing Week 4\n",
      "Processing Week 5\n",
      "Processing Week 6\n",
      "Processing Week 7\n",
      "Processing Week 8\n",
      "Processing Week 9\n",
      "Processing Week 10\n",
      "Processing Week 11\n",
      "Processing Week 12\n",
      "Processing Week 13\n",
      "Processing Week 14\n",
      "Processing Week 15\n",
      "Processing Week 16\n",
      "Processing Week 17\n",
      "Processing Week 18\n",
      "Processing Week 19\n",
      "Processing Week 20\n",
      "Processing Week 21\n",
      "Processing Week 22\n",
      "Processing Week 23\n",
      "Processing Week 24\n",
      "Processing Week 25\n",
      "Processing Week 26\n",
      "Processing Week 27\n",
      "Processing Week 28\n",
      "Processing Week 29\n",
      "Processing Week 30\n",
      "Processing Week 31\n",
      "Processing Week 32\n",
      "Processing Week 33\n",
      "Processing Week 34\n",
      "Processing Week 35\n",
      "Processing Week 36\n",
      "Processing Week 37\n",
      "Processing Week 38\n",
      "Processing Week 39\n",
      "Processing Week 40\n",
      "Processing Week 41\n",
      "Processing Week 42\n",
      "Processing Week 43\n",
      "Processing Week 44\n",
      "Processing Week 45\n",
      "Processing Week 46\n",
      "Processing Week 47\n",
      "Processing Week 48\n",
      "Processing Week 49\n",
      "Processing Week 50\n",
      "Processing Week 51\n",
      "Processing Week 52\n",
      "Processing Year 2018\n",
      "Processing Week 1\n",
      "Processing Week 2\n",
      "Processing Week 3\n",
      "Processing Week 4\n",
      "Processing Week 5\n",
      "Processing Week 6\n",
      "Processing Week 7\n",
      "Processing Week 8\n",
      "Processing Week 9\n",
      "Processing Week 10\n",
      "Processing Week 11\n",
      "Processing Week 12\n",
      "Processing Week 13\n",
      "Processing Week 14\n"
     ]
    },
    {
     "name": "stdout",
     "output_type": "stream",
     "text": [
      "Processing Week 15\n",
      "Processing Week 16\n",
      "Processing Week 17\n",
      "Processing Week 18\n",
      "Processing Week 19\n",
      "Processing Week 20\n",
      "Processing Week 21\n",
      "Processing Week 22\n",
      "Processing Week 23\n",
      "Processing Week 24\n",
      "Processing Week 25\n",
      "Processing Week 26\n",
      "Processing Week 27\n",
      "Processing Week 28\n",
      "Processing Week 29\n",
      "Processing Week 30\n",
      "Processing Week 31\n",
      "Processing Week 32\n",
      "Processing Week 33\n",
      "Processing Week 34\n",
      "Processing Week 35\n",
      "Processing Week 36\n",
      "Processing Week 37\n",
      "Processing Week 38\n",
      "Processing Week 39\n",
      "Processing Week 40\n",
      "Processing Week 41\n",
      "Processing Week 42\n",
      "Processing Week 43\n",
      "Processing Week 44\n",
      "Processing Week 45\n",
      "Processing Week 46\n",
      "Processing Week 47\n",
      "Processing Week 48\n",
      "Processing Week 49\n",
      "Processing Week 50\n",
      "Processing Week 51\n",
      "Processing Week 52\n",
      "Processing Year 2019\n",
      "Processing Week 1\n",
      "Processing Week 2\n",
      "Processing Week 3\n",
      "Processing Week 4\n",
      "Processing Week 5\n",
      "Processing Week 6\n",
      "Processing Week 7\n",
      "Processing Week 8\n",
      "Processing Week 9\n",
      "Processing Week 10\n",
      "Processing Week 11\n",
      "Processing Week 12\n",
      "Processing Week 13\n",
      "Processing Week 14\n",
      "Processing Week 15\n",
      "Processing Week 16\n",
      "Processing Week 17\n",
      "Processing Week 18\n",
      "Processing Week 19\n",
      "Processing Week 20\n",
      "Processing Week 21\n",
      "Processing Week 22\n",
      "Processing Week 23\n",
      "Processing Week 24\n",
      "Processing Week 25\n",
      "Processing Week 26\n",
      "Processing Week 27\n",
      "Processing Week 28\n",
      "Processing Week 29\n",
      "Processing Week 30\n",
      "Processing Week 31\n",
      "Processing Week 32\n",
      "Processing Week 33\n",
      "Processing Week 34\n",
      "Processing Week 35\n",
      "Processing Week 36\n",
      "Processing Week 37\n",
      "Processing Week 38\n",
      "Processing Week 39\n",
      "Processing Week 40\n",
      "Processing Week 41\n",
      "Processing Week 42\n",
      "Processing Week 43\n",
      "Processing Week 44\n",
      "Processing Week 45\n",
      "Processing Week 46\n",
      "Processing Week 47\n",
      "Processing Week 48\n",
      "Processing Week 49\n",
      "Processing Week 50\n",
      "Processing Week 51\n"
     ]
    }
   ],
   "source": [
    "cp = CrimePredictor('MOTOR VEHICLE THEFT', prev_weeks=5, neighbors=4, model_type='randomm_forest') # lex MAX prev_weeks=5, neighbors = 4\n",
    "df = cp.load_data(force=False, verbose=True)\n",
    "df = cp.preprocess()\n",
    "scores, y, y_pred = cp.train_test(force=True, verbose=True)"
   ]
  },
  {
   "cell_type": "markdown",
   "metadata": {},
   "source": [
    "### Random Forest - Classification"
   ]
  },
  {
   "cell_type": "code",
   "execution_count": null,
   "metadata": {},
   "outputs": [],
   "source": [
    "cp = CrimePredictor('MOTOR VEHICLE THEFT', prev_weeks=5, neighbors=4, model_type='random_forest', task_type='classification') # abs MAX prev_weeks=5, neighbors = 4\n",
    "df = cp.load_data(force=False, verbose=True)\n",
    "df = cp.preprocess()\n",
    "scores, y, y_pred = cp.train_test(force=True, verbose=True)"
   ]
  },
  {
   "cell_type": "markdown",
   "metadata": {},
   "source": [
    "### XGBoost - Regression"
   ]
  },
  {
   "cell_type": "code",
   "execution_count": null,
   "metadata": {},
   "outputs": [],
   "source": [
    "cp = CrimePredictor('MOTOR VEHICLE THEFT', prev_weeks=5, neighbors=4, model_type='xgboost') # lex MAX prev_weeks=5, neighbors = 4\n",
    "df = cp.load_data(force=False, verbose=True)\n",
    "df = cp.preprocess()\n",
    "scores, y, y_pred = cp.train_test(force=True, verbose=True)"
   ]
  },
  {
   "cell_type": "markdown",
   "metadata": {},
   "source": [
    "### Random Forest - Classification"
   ]
  },
  {
   "cell_type": "code",
   "execution_count": null,
   "metadata": {},
   "outputs": [],
   "source": [
    "cp = CrimePredictor('MOTOR VEHICLE THEFT', prev_weeks=5, neighbors=4, model_type='xgboost', task_type='classification') # abs MAX prev_weeks=5, neighbors = 4\n",
    "df = cp.load_data(force=False, verbose=True)\n",
    "df = cp.preprocess()\n",
    "scores, y, y_pred = cp.train_test(force=True, verbose=True)"
   ]
  },
  {
   "cell_type": "code",
   "execution_count": null,
   "metadata": {},
   "outputs": [],
   "source": []
  },
  {
   "cell_type": "code",
   "execution_count": 11,
   "metadata": {},
   "outputs": [],
   "source": [
    "johnny_df = pd.read_csv('../data/input/johnny.csv')"
   ]
  },
  {
   "cell_type": "code",
   "execution_count": 14,
   "metadata": {},
   "outputs": [
    {
     "data": {
      "text/plain": [
       "year\n",
       "2010    3750\n",
       "2011    3863\n",
       "2012    3612\n",
       "2013    3356\n",
       "2014    3164\n",
       "2015    2545\n",
       "2016    2104\n",
       "2017    1525\n",
       "2018    1422\n",
       "2019     850\n",
       "Name: crime_count_w-0, dtype: int64"
      ]
     },
     "execution_count": 14,
     "metadata": {},
     "output_type": "execute_result"
    }
   ],
   "source": [
    "johnny_df.groupby('year')['crime_count_w-0'].agg('sum')"
   ]
  },
  {
   "cell_type": "code",
   "execution_count": 54,
   "metadata": {},
   "outputs": [
    {
     "data": {
      "text/plain": [
       "['accuracy',\n",
       " 'adjusted_mutual_info_score',\n",
       " 'adjusted_rand_score',\n",
       " 'average_precision',\n",
       " 'balanced_accuracy',\n",
       " 'brier_score_loss',\n",
       " 'completeness_score',\n",
       " 'explained_variance',\n",
       " 'f1',\n",
       " 'f1_macro',\n",
       " 'f1_micro',\n",
       " 'f1_samples',\n",
       " 'f1_weighted',\n",
       " 'fowlkes_mallows_score',\n",
       " 'homogeneity_score',\n",
       " 'jaccard',\n",
       " 'jaccard_macro',\n",
       " 'jaccard_micro',\n",
       " 'jaccard_samples',\n",
       " 'jaccard_weighted',\n",
       " 'max_error',\n",
       " 'mutual_info_score',\n",
       " 'neg_log_loss',\n",
       " 'neg_mean_absolute_error',\n",
       " 'neg_mean_squared_error',\n",
       " 'neg_mean_squared_log_error',\n",
       " 'neg_median_absolute_error',\n",
       " 'normalized_mutual_info_score',\n",
       " 'precision',\n",
       " 'precision_macro',\n",
       " 'precision_micro',\n",
       " 'precision_samples',\n",
       " 'precision_weighted',\n",
       " 'r2',\n",
       " 'recall',\n",
       " 'recall_macro',\n",
       " 'recall_micro',\n",
       " 'recall_samples',\n",
       " 'recall_weighted',\n",
       " 'roc_auc',\n",
       " 'v_measure_score']"
      ]
     },
     "execution_count": 54,
     "metadata": {},
     "output_type": "execute_result"
    }
   ],
   "source": [
    "from sklearn.metrics import SCORERS\n",
    "\n",
    "sorted(SCORERS.keys())"
   ]
  },
  {
   "cell_type": "code",
   "execution_count": 16,
   "metadata": {},
   "outputs": [
    {
     "data": {
      "text/plain": [
       "(2010, 2016, 2017, 2018, 2019)"
      ]
     },
     "execution_count": 16,
     "metadata": {},
     "output_type": "execute_result"
    }
   ],
   "source": [
    "years_present = 10\n",
    "starting_year = 2010\n",
    "last_year = starting_year + years_present - 1\n",
    "train_year = starting_year + round(years_present * .7)\n",
    "validation_year = starting_year + round((train_year-starting_year) * .8)\n",
    "test_year = train_year + 1\n",
    "\n",
    "starting_year, validation_year, train_year, test_year, last_year"
   ]
  },
  {
   "cell_type": "code",
   "execution_count": 6,
   "metadata": {},
   "outputs": [],
   "source": [
    "johnny_df = pd.read_csv('../data/input/johnny.csv')"
   ]
  },
  {
   "cell_type": "code",
   "execution_count": 8,
   "metadata": {},
   "outputs": [
    {
     "data": {
      "text/html": [
       "<div>\n",
       "<style scoped>\n",
       "    .dataframe tbody tr th:only-of-type {\n",
       "        vertical-align: middle;\n",
       "    }\n",
       "\n",
       "    .dataframe tbody tr th {\n",
       "        vertical-align: top;\n",
       "    }\n",
       "\n",
       "    .dataframe thead th {\n",
       "        text-align: right;\n",
       "    }\n",
       "</style>\n",
       "<table border=\"1\" class=\"dataframe\">\n",
       "  <thead>\n",
       "    <tr style=\"text-align: right;\">\n",
       "      <th></th>\n",
       "      <th>start_year</th>\n",
       "      <th>start_week</th>\n",
       "      <th>geohash</th>\n",
       "      <th>population</th>\n",
       "      <th>AGE_0_17</th>\n",
       "      <th>AGE_18_29</th>\n",
       "      <th>AGE_30_49</th>\n",
       "      <th>AGE_50_UP</th>\n",
       "      <th>MED_AGE</th>\n",
       "      <th>FAGI_MED_5</th>\n",
       "      <th>...</th>\n",
       "      <th>crime_count_w-0</th>\n",
       "      <th>crime_count_w-1</th>\n",
       "      <th>crime_count_w-2</th>\n",
       "      <th>crime_count_w-3</th>\n",
       "      <th>crime_count_w-4</th>\n",
       "      <th>crime_count_w-5</th>\n",
       "      <th>crime_count_n-1</th>\n",
       "      <th>crime_count_n-2</th>\n",
       "      <th>crime_count_n-3</th>\n",
       "      <th>crime_count_n-4</th>\n",
       "    </tr>\n",
       "  </thead>\n",
       "  <tbody>\n",
       "    <tr>\n",
       "      <td>0</td>\n",
       "      <td>2010</td>\n",
       "      <td>6</td>\n",
       "      <td>dqchz3</td>\n",
       "      <td>0.0</td>\n",
       "      <td>0.0</td>\n",
       "      <td>0.0</td>\n",
       "      <td>0.0</td>\n",
       "      <td>0.0</td>\n",
       "      <td>0.0</td>\n",
       "      <td>0.0</td>\n",
       "      <td>...</td>\n",
       "      <td>0</td>\n",
       "      <td>0</td>\n",
       "      <td>0</td>\n",
       "      <td>0</td>\n",
       "      <td>0</td>\n",
       "      <td>0</td>\n",
       "      <td>0.000000</td>\n",
       "      <td>1.666667</td>\n",
       "      <td>0.25</td>\n",
       "      <td>0.000000</td>\n",
       "    </tr>\n",
       "    <tr>\n",
       "      <td>1</td>\n",
       "      <td>2010</td>\n",
       "      <td>6</td>\n",
       "      <td>dqchz6</td>\n",
       "      <td>0.0</td>\n",
       "      <td>0.0</td>\n",
       "      <td>0.0</td>\n",
       "      <td>0.0</td>\n",
       "      <td>0.0</td>\n",
       "      <td>0.0</td>\n",
       "      <td>0.0</td>\n",
       "      <td>...</td>\n",
       "      <td>0</td>\n",
       "      <td>0</td>\n",
       "      <td>0</td>\n",
       "      <td>0</td>\n",
       "      <td>0</td>\n",
       "      <td>0</td>\n",
       "      <td>1.000000</td>\n",
       "      <td>0.250000</td>\n",
       "      <td>0.00</td>\n",
       "      <td>0.000000</td>\n",
       "    </tr>\n",
       "    <tr>\n",
       "      <td>2</td>\n",
       "      <td>2010</td>\n",
       "      <td>6</td>\n",
       "      <td>dqchz7</td>\n",
       "      <td>0.0</td>\n",
       "      <td>0.0</td>\n",
       "      <td>0.0</td>\n",
       "      <td>0.0</td>\n",
       "      <td>0.0</td>\n",
       "      <td>0.0</td>\n",
       "      <td>0.0</td>\n",
       "      <td>...</td>\n",
       "      <td>0</td>\n",
       "      <td>0</td>\n",
       "      <td>0</td>\n",
       "      <td>0</td>\n",
       "      <td>0</td>\n",
       "      <td>0</td>\n",
       "      <td>1.000000</td>\n",
       "      <td>0.166667</td>\n",
       "      <td>0.00</td>\n",
       "      <td>0.333333</td>\n",
       "    </tr>\n",
       "    <tr>\n",
       "      <td>3</td>\n",
       "      <td>2010</td>\n",
       "      <td>6</td>\n",
       "      <td>dqchz9</td>\n",
       "      <td>0.0</td>\n",
       "      <td>0.0</td>\n",
       "      <td>0.0</td>\n",
       "      <td>0.0</td>\n",
       "      <td>0.0</td>\n",
       "      <td>0.0</td>\n",
       "      <td>0.0</td>\n",
       "      <td>...</td>\n",
       "      <td>0</td>\n",
       "      <td>0</td>\n",
       "      <td>1</td>\n",
       "      <td>0</td>\n",
       "      <td>0</td>\n",
       "      <td>0</td>\n",
       "      <td>0.000000</td>\n",
       "      <td>1.666667</td>\n",
       "      <td>0.25</td>\n",
       "      <td>0.000000</td>\n",
       "    </tr>\n",
       "    <tr>\n",
       "      <td>4</td>\n",
       "      <td>2010</td>\n",
       "      <td>6</td>\n",
       "      <td>dqchzd</td>\n",
       "      <td>0.0</td>\n",
       "      <td>0.0</td>\n",
       "      <td>0.0</td>\n",
       "      <td>0.0</td>\n",
       "      <td>0.0</td>\n",
       "      <td>0.0</td>\n",
       "      <td>0.0</td>\n",
       "      <td>...</td>\n",
       "      <td>0</td>\n",
       "      <td>0</td>\n",
       "      <td>0</td>\n",
       "      <td>1</td>\n",
       "      <td>0</td>\n",
       "      <td>0</td>\n",
       "      <td>0.833333</td>\n",
       "      <td>0.250000</td>\n",
       "      <td>0.00</td>\n",
       "      <td>0.000000</td>\n",
       "    </tr>\n",
       "  </tbody>\n",
       "</table>\n",
       "<p>5 rows × 30 columns</p>\n",
       "</div>"
      ],
      "text/plain": [
       "   start_year  start_week geohash  population  AGE_0_17  AGE_18_29  AGE_30_49  \\\n",
       "0        2010           6  dqchz3         0.0       0.0        0.0        0.0   \n",
       "1        2010           6  dqchz6         0.0       0.0        0.0        0.0   \n",
       "2        2010           6  dqchz7         0.0       0.0        0.0        0.0   \n",
       "3        2010           6  dqchz9         0.0       0.0        0.0        0.0   \n",
       "4        2010           6  dqchzd         0.0       0.0        0.0        0.0   \n",
       "\n",
       "   AGE_50_UP  MED_AGE  FAGI_MED_5  ...  crime_count_w-0  crime_count_w-1  \\\n",
       "0        0.0      0.0         0.0  ...                0                0   \n",
       "1        0.0      0.0         0.0  ...                0                0   \n",
       "2        0.0      0.0         0.0  ...                0                0   \n",
       "3        0.0      0.0         0.0  ...                0                0   \n",
       "4        0.0      0.0         0.0  ...                0                0   \n",
       "\n",
       "   crime_count_w-2  crime_count_w-3  crime_count_w-4  crime_count_w-5  \\\n",
       "0                0                0                0                0   \n",
       "1                0                0                0                0   \n",
       "2                0                0                0                0   \n",
       "3                1                0                0                0   \n",
       "4                0                1                0                0   \n",
       "\n",
       "   crime_count_n-1  crime_count_n-2  crime_count_n-3  crime_count_n-4  \n",
       "0         0.000000         1.666667             0.25         0.000000  \n",
       "1         1.000000         0.250000             0.00         0.000000  \n",
       "2         1.000000         0.166667             0.00         0.333333  \n",
       "3         0.000000         1.666667             0.25         0.000000  \n",
       "4         0.833333         0.250000             0.00         0.000000  \n",
       "\n",
       "[5 rows x 30 columns]"
      ]
     },
     "execution_count": 8,
     "metadata": {},
     "output_type": "execute_result"
    }
   ],
   "source": [
    "johnny_df.head()"
   ]
  },
  {
   "cell_type": "code",
   "execution_count": 9,
   "metadata": {},
   "outputs": [
    {
     "data": {
      "text/plain": [
       "Index(['start_year', 'start_week', 'geohash', 'population', 'AGE_0_17',\n",
       "       'AGE_18_29', 'AGE_30_49', 'AGE_50_UP', 'MED_AGE', 'FAGI_MED_5',\n",
       "       'WATTAGE', 'crime_count', 'stations', 'traffic_cameras', 'AWND', 'PRCP',\n",
       "       'TMAX', 'TMIN', 'RANGE', 'ave_temp', 'crime_count_w-0',\n",
       "       'crime_count_w-1', 'crime_count_w-2', 'crime_count_w-3',\n",
       "       'crime_count_w-4', 'crime_count_w-5', 'crime_count_n-1',\n",
       "       'crime_count_n-2', 'crime_count_n-3', 'crime_count_n-4'],\n",
       "      dtype='object')"
      ]
     },
     "execution_count": 9,
     "metadata": {},
     "output_type": "execute_result"
    }
   ],
   "source": [
    "johnny_df.columns"
   ]
  },
  {
   "cell_type": "code",
   "execution_count": 23,
   "metadata": {
    "scrolled": true
   },
   "outputs": [
    {
     "data": {
      "text/html": [
       "<div>\n",
       "<style scoped>\n",
       "    .dataframe tbody tr th:only-of-type {\n",
       "        vertical-align: middle;\n",
       "    }\n",
       "\n",
       "    .dataframe tbody tr th {\n",
       "        vertical-align: top;\n",
       "    }\n",
       "\n",
       "    .dataframe thead th {\n",
       "        text-align: right;\n",
       "    }\n",
       "</style>\n",
       "<table border=\"1\" class=\"dataframe\">\n",
       "  <thead>\n",
       "    <tr style=\"text-align: right;\">\n",
       "      <th></th>\n",
       "      <th>start_year</th>\n",
       "      <th>start_week</th>\n",
       "      <th>geohash</th>\n",
       "      <th>ave_temp</th>\n",
       "    </tr>\n",
       "  </thead>\n",
       "  <tbody>\n",
       "    <tr>\n",
       "      <td>94863</td>\n",
       "      <td>2015</td>\n",
       "      <td>53</td>\n",
       "      <td>dqchz3</td>\n",
       "      <td>NaN</td>\n",
       "    </tr>\n",
       "    <tr>\n",
       "      <td>94864</td>\n",
       "      <td>2015</td>\n",
       "      <td>53</td>\n",
       "      <td>dqchz6</td>\n",
       "      <td>NaN</td>\n",
       "    </tr>\n",
       "    <tr>\n",
       "      <td>94865</td>\n",
       "      <td>2015</td>\n",
       "      <td>53</td>\n",
       "      <td>dqchz7</td>\n",
       "      <td>NaN</td>\n",
       "    </tr>\n",
       "    <tr>\n",
       "      <td>94866</td>\n",
       "      <td>2015</td>\n",
       "      <td>53</td>\n",
       "      <td>dqchz9</td>\n",
       "      <td>NaN</td>\n",
       "    </tr>\n",
       "    <tr>\n",
       "      <td>94867</td>\n",
       "      <td>2015</td>\n",
       "      <td>53</td>\n",
       "      <td>dqchzd</td>\n",
       "      <td>NaN</td>\n",
       "    </tr>\n",
       "    <tr>\n",
       "      <td>...</td>\n",
       "      <td>...</td>\n",
       "      <td>...</td>\n",
       "      <td>...</td>\n",
       "      <td>...</td>\n",
       "    </tr>\n",
       "    <tr>\n",
       "      <td>95167</td>\n",
       "      <td>2015</td>\n",
       "      <td>53</td>\n",
       "      <td>dqcm84</td>\n",
       "      <td>NaN</td>\n",
       "    </tr>\n",
       "    <tr>\n",
       "      <td>95168</td>\n",
       "      <td>2015</td>\n",
       "      <td>53</td>\n",
       "      <td>dqcm85</td>\n",
       "      <td>NaN</td>\n",
       "    </tr>\n",
       "    <tr>\n",
       "      <td>95169</td>\n",
       "      <td>2015</td>\n",
       "      <td>53</td>\n",
       "      <td>dqcm86</td>\n",
       "      <td>NaN</td>\n",
       "    </tr>\n",
       "    <tr>\n",
       "      <td>95170</td>\n",
       "      <td>2015</td>\n",
       "      <td>53</td>\n",
       "      <td>dqcm88</td>\n",
       "      <td>NaN</td>\n",
       "    </tr>\n",
       "    <tr>\n",
       "      <td>95171</td>\n",
       "      <td>2015</td>\n",
       "      <td>53</td>\n",
       "      <td>dqcm8h</td>\n",
       "      <td>NaN</td>\n",
       "    </tr>\n",
       "  </tbody>\n",
       "</table>\n",
       "<p>309 rows × 4 columns</p>\n",
       "</div>"
      ],
      "text/plain": [
       "       start_year  start_week geohash  ave_temp\n",
       "94863        2015          53  dqchz3       NaN\n",
       "94864        2015          53  dqchz6       NaN\n",
       "94865        2015          53  dqchz7       NaN\n",
       "94866        2015          53  dqchz9       NaN\n",
       "94867        2015          53  dqchzd       NaN\n",
       "...           ...         ...     ...       ...\n",
       "95167        2015          53  dqcm84       NaN\n",
       "95168        2015          53  dqcm85       NaN\n",
       "95169        2015          53  dqcm86       NaN\n",
       "95170        2015          53  dqcm88       NaN\n",
       "95171        2015          53  dqcm8h       NaN\n",
       "\n",
       "[309 rows x 4 columns]"
      ]
     },
     "execution_count": 23,
     "metadata": {},
     "output_type": "execute_result"
    }
   ],
   "source": [
    "johnny_df[(johnny_df['start_year'] != 2018) & (johnny_df['ave_temp'].isna())][['start_year', 'start_week', 'geohash', 'ave_temp']]"
   ]
  },
  {
   "cell_type": "code",
   "execution_count": 27,
   "metadata": {},
   "outputs": [],
   "source": [
    "johnny_df.dropna().rename(columns={'start_year': 'year', 'start_week': 'week'}).to_csv('johnny.csv', index=False)"
   ]
  }
 ],
 "metadata": {
  "kernelspec": {
   "display_name": "crime-capstone",
   "language": "python",
   "name": "crime-capstone"
  },
  "language_info": {
   "codemirror_mode": {
    "name": "ipython",
    "version": 3
   },
   "file_extension": ".py",
   "mimetype": "text/x-python",
   "name": "python",
   "nbconvert_exporter": "python",
   "pygments_lexer": "ipython3",
   "version": "3.7.4"
  }
 },
 "nbformat": 4,
 "nbformat_minor": 2
}
